{
 "cells": [
  {
   "cell_type": "markdown",
   "id": "5901208c-71e3-44e1-9886-32e628cc1927",
   "metadata": {},
   "source": [
    "# Better Than Vibes\n",
    "#### By J. Seaward\n",
    "\n",
    "While training and fine-tuning models models in a shoestring budget, the question of whether or not we had enough data was a constant problem. Is the problem with the model architecture? the implementation? or do we need more/better data? When I asked how we knew such and such data was enough the answer typically boiled down to \"vibes.\" Let us see if we can do ***better than vibes.***\n",
    "\n",
    "The goal at the outset was to be able to evaluate a fine-tuning or training set without (re)training the model.\n",
    "Have not come up with a way to check the sufficiency of a fine-tunin set in the absence of a task *and* model, nor uncovered a unversal scaling law for model parameters and sufficient dataset size. What we have come up with at this point is a way of prioritizing training data at both the sample and set level allowing for automatic pruning of training sets, allowing for cheaper/fast training without loss of performance, as well as ranking of potential fin-tuning sets. These methods rely on the information content of data labels and some simple geometric considerations. To make evaluation of the data model-independant, we construct a self-ignoring distance weighted k-nearest neighbor classifier (explained below), which is applicable well to any dataspace with a meaningful distance metric, or model whose outputs vary smoothly and slowly in data-space.\n",
    "\n",
    "Marginalia provided in the code blocks.\n",
    "\n",
    "## Introduction: Information Theory\n",
    "\n",
    "Shannon information, $I$, is the measure of information a character in a message brings to a receiver. The information a character $a$ brings is written $$I(a) = -\\log(p_a),$$ where $p_a$ is the probability that the character $a$ will be received. This probability is conditioned on the previous characters in the message *and* prior knowledge about the type of message. For example, a \"u\" following a \"q\" when the message is in English carries almost no information, since \"u\" nearly always follows \"q\" (conversely, any other letter carries large amounts of information, narrowing down the rest of the possible characters to only a handful). On the other hand, if the message were encrypted in such a way that all characters were equally likely, \"u\" after \"q\" would carry just as much information as any other character, them all having equal probability.\n",
    "\n",
    "Turning back to machine learning, we can think of each sample in a test set as a message, beginning with the data and ending with the label(s). A model, then, is a machine that guesses the label(s), conditioned on the data *and* what it has seen during training. What we want a model to do is learn the patterns that allow one to infer the next part of a message, given the first part. A language model trained on English text would have learned that \"u\" nearly allows follows \"q\", for instance. We can then think of each *label* in a data set as holding a certain amount of information, depending on what the model has already learned. From here, we can start asking questions about how much data is enough and which data sets will be more useful for training."
   ]
  },
  {
   "cell_type": "code",
   "execution_count": 3,
   "id": "ef7a114a-2ce7-4fc4-a88c-b6a8f24a5d76",
   "metadata": {},
   "outputs": [
    {
     "name": "stdout",
     "output_type": "stream",
     "text": [
      "OpenML Dataset\n",
      "==============\n",
      "Name..........: electricity\n",
      "Version.......: 13\n",
      "Format........: arff\n",
      "Upload Date...: 2022-07-10 10:34:54\n",
      "Licence.......: Public\n",
      "Download URL..: https://api.openml.org/data/v1/download/22103281/electricity.arff\n",
      "OpenML URL....: https://www.openml.org/d/44156\n",
      "# of features.: 9\n",
      "# of instances: 38474\n"
     ]
    }
   ],
   "source": [
    "# Import the module and get a dataset\n",
    "import btv\n",
    "\n",
    "# 44156 is the id for the \"electricity\" datasset, predicting whether the price of electricty rises or falls week to week.\n",
    "# Feel free to chose another from the openML catalogue (https://www.openml.org/search?type=data&status=active)\n",
    "# Make sure to update the name of the class column argument if necessary.\n",
    "df, X, y = btv.data_tabular.dataset2df(44156, class_cols=[\"class\"], verbose=True)\n",
    "\n",
    "# from sklearn.model_selection import train_test_split\n",
    "# X_train, X_test, y_train, y_test = train_test_split(X, y, test_size=0.2)\n",
    "\n",
    "# to reproduce results, uncomment the lines below and use these test/train sets instead of the random ones above\n",
    "import numpy as np\n",
    "\n",
    "train_idx = np.load(\"demo_support/electric_train_set.npy\")\n",
    "test_idx = np.load(\"demo_support/electric_test_set.npy\")\n",
    "X_train, X_test, y_train, y_test = X[train_idx], X[test_idx], y[train_idx], y[test_idx]"
   ]
  },
  {
   "cell_type": "markdown",
   "id": "b46ee45c-cd31-40c3-b648-e4cd3beb9286",
   "metadata": {},
   "source": [
    "### Label information without any data\n",
    "Without looking at the data or deploying any kind of model, the labels necessarily hold a lot of information. All we have to go on to guess the label of any given data point is the frequency of the label's occurrence. The information in each label, $y_i=c_i$, is written $$I(y_i) = -\\log_2[p(y_i=c_i)]$$ where the probability of label $y_i$ being the correct class for the sample, $c_i$, can only be crudely estimated. Note that data of the sample, $x_i$, plays no role and the base of the logarithm makes the unit of information the bit. Call this information given only chance $I^*$, and consider the a prioiri information."
   ]
  },
  {
   "cell_type": "code",
   "execution_count": 4,
   "id": "a3974962-2955-459d-b369-386f3893ce77",
   "metadata": {},
   "outputs": [
    {
     "name": "stdout",
     "output_type": "stream",
     "text": [
      "Information in the test set assuming p(label) == 1/# of classes:\n",
      " 7695.0\n",
      "Information in the test set assuming p(label) == 1/# of label ouccurances:\n",
      " 7694.651180995905\n"
     ]
    }
   ],
   "source": [
    "naive_test_info = btv.core.chance_info(y_test, use_freq=False)\n",
    "frequnecy_test_info = btv.core.chance_info(y_test, use_freq=True)\n",
    "print(\n",
    "    \"Information in the test set assuming p(label) == 1/# of classes:\\n\",\n",
    "    naive_test_info,\n",
    ")\n",
    "print(\n",
    "    \"Information in the test set assuming p(label) == 1/# of label ouccurances:\\n\",\n",
    "    frequnecy_test_info,\n",
    ")"
   ]
  },
  {
   "cell_type": "markdown",
   "id": "5eb18cce-78ea-47c8-8cea-0fb50030a19a",
   "metadata": {},
   "source": [
    "The frequency-aware information should be *lower* than the one based only on the number of classes, that reflecting the actual distribution of labels better. If they are close, that means the samples are very evenly distributed between the classes.\n",
    "### Information remaining for a trained model\n",
    "After training, a model will be able to use the data to infer the label. Therefore the information in the label for a trained model will be much less than using just frequency statistics. It can be written $$I(y_i|x_i) = -\\log_2[p(y_i=c_i|x_i)],$$ where $p(y_i=c_i|x_i)$ is the probability estimation the classifier gives to the correct class. A *perfect* model would know every label with certainty from it's data, guess every label correctly with probability one, giving $I=0$ for all samples."
   ]
  },
  {
   "cell_type": "code",
   "execution_count": 5,
   "id": "3eb940ff-44b9-4aac-bf76-c8986d825b36",
   "metadata": {},
   "outputs": [
    {
     "name": "stdout",
     "output_type": "stream",
     "text": [
      "Information in the test set from frqunecy stats: 7694.651\n",
      "Information remaining in test set for trained classifier: 1761.151\n",
      "Score when trained on full training set: : 0.81092\n"
     ]
    }
   ],
   "source": [
    "from sklearn.ensemble import GradientBoostingClassifier  # a classic for tabulat data\n",
    "\n",
    "# feel free to use another classifier. The methods called will be .fit(X,y), .predict_proba(X), and .score(X,y)\n",
    "clf = GradientBoostingClassifier(\n",
    "    n_estimators=100, learning_rate=1.0, max_depth=1, random_state=10\n",
    ")\n",
    "clf.fit(X_train, y_train)\n",
    "predicted_label_probabilities = clf.predict_proba(X_test)\n",
    "trained_test_info = btv.core.prediction_info(\n",
    "    y_test, predicted_label_probabilities\n",
    ").sum()  # function returns the information of each label\n",
    "full_train_score = clf.score(X_test, y_test)\n",
    "\n",
    "print(f\"Information in the test set from frqunecy stats: {frequnecy_test_info:.3f}\")\n",
    "print(\n",
    "    f\"Information remaining in test set for trained classifier: {trained_test_info:.3f}\"\n",
    ")\n",
    "print(f\"Score when trained on full training set: : {full_train_score:0.5f}\")"
   ]
  },
  {
   "cell_type": "markdown",
   "id": "0c08dcab-2a13-4e48-9dbf-c0ae62d30d6d",
   "metadata": {},
   "source": [
    "Since the Shannon information of message can be thought of as the amount of information needed to specify the message, a better-trained model need less information about (or \"leave less information in\" if you use the thermodynamic analogy of information being hidden in a system) a test set."
   ]
  },
  {
   "cell_type": "code",
   "execution_count": 6,
   "id": "0377d2ea-d47b-462a-a85c-4d562c98ee12",
   "metadata": {},
   "outputs": [
    {
     "name": "stdout",
     "output_type": "stream",
     "text": [
      "Information in the test set from frqunecy stats: 7694.651\n",
      "Information remaining in test set for fully-trained classifier: 1761.151\n",
      "Score when trained on full training set: : 0.81092\n",
      "Information remaining in test set for minimum-trained classifier: 2889.147\n",
      "Score when trained on minimum training set: : 0.61663\n",
      "Information remaining in test set for classifier trained on almost all 0 labels: 3561.000\n",
      "Score when trained on almost all 0 labels : 0.53723\n"
     ]
    }
   ],
   "source": [
    "import numpy as np\n",
    "# Select a minimum training set, one that only includes one of every label\n",
    "min_idx, _ = btv.core.collect_min_set(y_train)\n",
    "X_min, y_min = X_train[min_idx], y_train[min_idx]\n",
    "# Fitting to this minimum set will result in a functional, but poor classifier\n",
    "clf.fit(X_min, y_min)\n",
    "min_trained_predicted_test_probabilities = clf.predict_proba(X_test)\n",
    "min_trained_test_info = btv.core.prediction_info(\n",
    "    y_test, min_trained_predicted_test_probabilities\n",
    ").sum()\n",
    "min_trained_score = clf.score(X_test, y_test)\n",
    "\n",
    " # a training set of almost all zeros will not tell us much about the test set\n",
    "idx_0s = np.where(y_train == 0)[0]\n",
    "idx_0splus1 = np.unique(\n",
    "    np.append(min_idx, idx_0s)\n",
    ") \n",
    "clf.fit(X_train[idx_0splus1], y_train[idx_0splus1])\n",
    "almost_all_zero_test_info = btv.core.prediction_info(\n",
    "    y_test, clf.predict_proba(X_test)\n",
    ").sum()\n",
    "zeros_test_score = clf.score(X_test,y_test)\n",
    "\n",
    "print(f\"Information in the test set from frqunecy stats: {frequnecy_test_info:.3f}\")\n",
    "print(\n",
    "    f\"Information remaining in test set for fully-trained classifier: {trained_test_info:.3f}\"\n",
    ")\n",
    "print(f\"Score when trained on full training set: : {full_train_score:0.5f}\")\n",
    "print(\n",
    "    f\"Information remaining in test set for minimum-trained classifier: {min_trained_test_info:.3f}\"\n",
    ")\n",
    "print(f\"Score when trained on minimum training set: : {min_trained_score:0.5f}\")\n",
    "print(\n",
    "    f\"Information remaining in test set for classifier trained on almost all 0 labels: {almost_all_zero_test_info:.3f}\"\n",
    ")\n",
    "print(f\"Score when trained on almost all 0 labels : {zeros_test_score:0.5f}\")"
   ]
  },
  {
   "cell_type": "markdown",
   "id": "578ddcba-d7a0-4ff2-b59b-b6269610f7ce",
   "metadata": {},
   "source": [
    "NB: When using a random forest classifier on the electricity data set (OpenML id = 44156), and the train/test split aved in ./demo_support/, the classifier trained on almost all zeros did *worse* than on trained on only two samples. It left more information in the test set ($\\approx1100$ bits) and scored $\\approx8$% worse ($\\approx53$% accuracy). This is not too surprizing since the training set with only one sample of each labels reflects the class balance of the test set.\n",
    "\n",
    "This gives us a way to quantify how much information a training set has for a classifier **about** a test set, but only if we are willing to retrain. In that sense it is only another evaluation metric and does not cut out the slow/expensive part of model development. However, when applied to training sets, the more ignorant a classifier is about a set, the more it can potentially learn from it.\n",
    "\n",
    "#### Looking at the information remaining in the training set after training on subsets of it:"
   ]
  },
  {
   "cell_type": "code",
   "execution_count": 7,
   "id": "389ec679-d252-4061-b6f7-398c5f1c0a29",
   "metadata": {
    "scrolled": true
   },
   "outputs": [
    {
     "name": "stdout",
     "output_type": "stream",
     "text": [
      "Information in the training set from frqunecy stats: 30778.913\n",
      "Information remaining in train set for minimum-trained classifier: 11439.607\n",
      "Information remaining in train set for tenth-trained classifier: 7171.968\n",
      "Information remaining in train set for fully-trained classifier: 6907.605\n"
     ]
    }
   ],
   "source": [
    "frequnecy_train_info = btv.core.chance_info(y_train)\n",
    "clf.fit(X_train, y_train)\n",
    "full_trained_train_info = btv.core.prediction_info(\n",
    "    y_train, clf.predict_proba(X_train)\n",
    ").sum()\n",
    "clf.fit(X_train[: len(y_train) // 10], y_train[: len(y_train) // 10])\n",
    "tenth_trained_train_info = btv.core.prediction_info(\n",
    "    y_train, clf.predict_proba(X_train)\n",
    ").sum()\n",
    "clf.fit(X_min, y_min)\n",
    "min_trained_train_info = btv.core.prediction_info(\n",
    "    y_train, clf.predict_proba(X_train)\n",
    ").sum()\n",
    "\n",
    "print(\n",
    "    f\"Information in the training set from frqunecy stats: {frequnecy_train_info:.3f}\"\n",
    ")\n",
    "print(\n",
    "    f\"Information remaining in train set for minimum-trained classifier: {min_trained_train_info:.3f}\"\n",
    ")\n",
    "print(\n",
    "    f\"Information remaining in train set for tenth-trained classifier: {tenth_trained_train_info:.3f}\"\n",
    ")\n",
    "print(\n",
    "    f\"Information remaining in train set for fully-trained classifier: {full_trained_train_info:.3f}\"\n",
    ")"
   ]
  },
  {
   "cell_type": "markdown",
   "id": "6ec7e4ce-a439-478c-86c2-71d434ef07d9",
   "metadata": {},
   "source": [
    "The amount of informtion remaining in the entire training set may not be significantly lower when training on all of it vs. training on the whole thing (depending on the clssifier). This hints at the redundancy of training data. In order to find that redundancy, we introduce a modified distance weighted k-nearest neighbor model: the self-drop dknn.\n",
    "\n",
    "## Estimating Data Redudancy: The Self-Drop d-KNN\n",
    "A distance weight k-nearest neighbor classifier will take take the weighted average of the classes of the test point's $k$ nearest neighbors to dertimine the probability if its class. The average being weighted by $1/d_i$ where $d_i$ where $d_i$ is the distance to the $i^{th}$ neighbor. This assumes that data points whose features take simillar values (i.e. data points that are *close* in the data-space) are likely to be in the same class. Since this is such a broadly applicable assumption (e.g. metric embedding spaces, data ameanable to clustering, etc.) we take is as a basis for estimating the information a training set has about itself.\n",
    "\n",
    "A d-knn classifier assigns probabilites to all classes for each point in data space, whether labelled or not. The label on a labelled point provides the classifier with $I(y|x)=0$ because the classifier knows the label there with probability $1$. Likewise, the label on a point near one of the same class (see point highlighted in blue bellow), will provide very little information, since the probability assigned to the correct class is high. Conversely, a point near points of *unlike* class (see point highlighted in red) will provide much more information. Since the probabilities fall off with distance, points far from any others (e.g. the black \"x\" below) will still provide information, due to the lack of certainty there."
   ]
  },
  {
   "cell_type": "code",
   "execution_count": 11,
   "id": "64475d80-2059-491c-beb1-f3831d95eb9d",
   "metadata": {},
   "outputs": [
    {
     "data": {
      "image/png": "[encoded data removed]",
      "text/plain": [
       "<Figure size 640x480 with 1 Axes>"
      ]
     },
     "metadata": {},
     "output_type": "display_data"
    }
   ],
   "source": [
    "# Example dataspace visualization\n",
    "from matplotlib import pyplot as plt\n",
    "c1 = np.array([[1,1],[1.1,1.5],[1.2,1.3],[0.8,1.15]])\n",
    "c2 = np.array([[3,3],[2.8,3.1],[2.9,2.9],[1.1,1],[2.5,2.8],[2.8,2.76]])\n",
    "\n",
    "plt.scatter(c1[:,0],c1[:,1], marker = 'x', label='Class 1')\n",
    "plt.scatter(c2[:,0],c2[:,1], marker='o', label='Class 2')\n",
    "plt.scatter(2,2, marker = 'x', color ='k')\n",
    "plt.xlim([0,3.5])\n",
    "plt.ylim([0,3.5])\n",
    "plt.xlabel('Feature 1')\n",
    "plt.ylabel('Feature 2')\n",
    "plt.title(\"Example Dataspace\")\n",
    "plt.arrow(1.35, 0.75, -.15, .15, width=0.02, color = 'r')\n",
    "plt.arrow(3.15, 2.65, -.15, .15, width=0.02)\n",
    "plt.legend()\n",
    "plt.show()"
   ]
  },
  {
   "cell_type": "markdown",
   "id": "adf3a350-b823-4911-80d7-489e1acdcd6b",
   "metadata": {},
   "source": [
    "So, a d-knn can estimate how informative a label at a point is given the point's neighbors and thus estimate which labels are most important to keep in a training set and which ones an be discarded. However, a vanilla knn will always return $I(y_i|x_i) = 0$ for all $(x_i,y_i)$ in its training set. That is what \"self-drop\" adresses. We provide a custom weights function ('fns._src._dist_weight_ignore_self') which assigns a weight of $0$ to neighbors with $d=0$ instead of letting them determine the outcome of the classifier. This lets us estimate the amount of infrmation a trainig set has about itself."
   ]
  },
  {
   "cell_type": "code",
   "execution_count": 16,
   "id": "acaab68d-e9e7-4c6c-ba3e-e7af13ef46ef",
   "metadata": {},
   "outputs": [
    {
     "name": "stdout",
     "output_type": "stream",
     "text": [
      "Information in the training set from frqunecy stats: 30778.913\n",
      "Information remaining in train set for vanilla dknn classifier: 0.000\n",
      "Estimated training set self-information: 6740.530\n",
      "Information remaining in train set for fully-trained classifier: 6907.605\n"
     ]
    }
   ],
   "source": [
    "train_set_self_info = btv.core.estimate_info(X_train,y_train)\n",
    "clf_knn = btv.core.fit_dknn_toXy(X_train,y_train)\n",
    "knn_trained_info = btv.core.prediction_info(y_train, clf_knn.predict_proba(X_train)).sum()\n",
    "\n",
    "print(\n",
    "    f\"Information in the training set from frqunecy stats: {frequnecy_train_info:.3f}\"\n",
    ")\n",
    "print(\n",
    "    f\"Information remaining in train set for vanilla dknn classifier: {knn_trained_info:.3f}\"\n",
    ")\n",
    "print(\n",
    "    f\"Estimated training set self-information: {train_set_self_info:.3f}\"\n",
    ")\n",
    "print(\n",
    "    f\"Information remaining in train set for fully-trained classifier: {full_trained_train_info:.3f}\"\n",
    ")"
   ]
  },
  {
   "cell_type": "markdown",
   "id": "b1c01036-a3aa-4302-925b-081b4e58e5bf",
   "metadata": {},
   "source": [
    "We can see that the information estimated by th self-drop knn is close to information remaining in the training set for the RF classifier, $6740$ vs. $6907$ bits out of $30,\\!778$ bits, a difference of $\\approx0.5$%.\n",
    "\n",
    "If this is a good estimation, we can exclude points with low information from the training set and retain performance."
   ]
  },
  {
   "cell_type": "code",
   "execution_count": 21,
   "id": "7521910e-dff4-4063-9e03-ad2b9046f39f",
   "metadata": {},
   "outputs": [
    {
     "name": "stdout",
     "output_type": "stream",
     "text": [
      "Score when trained on full training set: : 0.81092\n",
      "Length of pruned training set is 23480 samples, 76.29% of the full training set.\n",
      "Score when trained on pruned set: : 0.81442\n"
     ]
    }
   ],
   "source": [
    "idx_pruned = btv.selection.prune_by_info(X_train,y_train, thresh=0) # setting threshold to 0 bits, just to be safe\n",
    "clf.fit(X_train[idx_pruned],y_train[idx_pruned])\n",
    "pruned_score = clf.score(X_test,y_test)\n",
    "\n",
    "print(f\"Score when trained on full training set: : {full_train_score:0.5f}\")\n",
    "print(f\"Length of pruned training set is {len(idx_pruned)} samples, {len(idx_pruned)/len(y_train) * 100:0.2f}% of the full training set.\")\n",
    "print(f\"Score when trained on pruned set: : {pruned_score:0.5f}\")"
   ]
  },
  {
   "cell_type": "markdown",
   "id": "153f5436-463a-4daa-8909-b4b509463f72",
   "metadata": {},
   "source": [
    "NB: With the provided data, the pruned set, the RF classifier perfomed **better**, $0.81442$ vs $0.81092$.\n",
    "\n",
    "Now we have a few tools to examine and compare data sets:\n",
    "- "
   ]
  },
  {
   "cell_type": "code",
   "execution_count": null,
   "id": "a1ead1e4-047f-47ab-b007-a17428b7a64f",
   "metadata": {},
   "outputs": [],
   "source": []
  },
  {
   "cell_type": "code",
   "execution_count": null,
   "id": "dd89e557-7ddf-4f22-aa19-ce5f3f30294e",
   "metadata": {},
   "outputs": [],
   "source": []
  },
  {
   "cell_type": "code",
   "execution_count": null,
   "id": "bc3bec09-ffe4-4a60-955a-c12fbc119c38",
   "metadata": {},
   "outputs": [],
   "source": []
  },
  {
   "cell_type": "code",
   "execution_count": 178,
   "id": "b5a27f73-fd2c-4d37-bb38-1148b1820b68",
   "metadata": {},
   "outputs": [
    {
     "name": "stdout",
     "output_type": "stream",
     "text": [
      "Information remaining in train set for fully-trained RF classifier: 6907.605\n",
      "RF test score: : 0.81092\n",
      "Information remaining in train set for dknn classifier: 0.000\n",
      "d-knn test score: 0.809357\n"
     ]
    }
   ],
   "source": [
    "clf_knn = btv.core.fit_dknn_toXy(X_train,y_train)\n",
    "knn_trained_info = btv.core.prediction_info(y_train, clf_knn.predict_proba(X_train)).sum()\n",
    "dknn_score = clf_knn.score(X_test,y_test)\n",
    "print(\n",
    "    f\"Information remaining in train set for fully-trained RF classifier: {full_trained_train_info:.3f}\"\n",
    ")\n",
    "print(f\"RF test score: : {full_train_score:0.5f}\")\n",
    "print(\n",
    "    f\"Information remaining in train set for dknn classifier: {knn_trained_info:.3f}\"\n",
    ")\n",
    "print(f\"d-knn test score: {dknn_score:f}\")"
   ]
  },
  {
   "cell_type": "markdown",
   "id": "66c05aba-8348-4d55-8663-2f9a23c5e2fa",
   "metadata": {},
   "source": [
    "The amount of information left in or taken out of a training et by a classifier raises the question of what proportion of the information in the training set a classifier extracts, the *extraction rate*, $$r = \\frac{I^* - \\sum_iI(y_i|x_i)}{I^*},$$ that is the information learned from the dataset, divided by the a priori information, $I^*$. "
   ]
  },
  {
   "cell_type": "code",
   "execution_count": 180,
   "id": "21a28951-7d7c-4f45-a8c7-1d89b19e8444",
   "metadata": {},
   "outputs": [
    {
     "name": "stdout",
     "output_type": "stream",
     "text": [
      "Fraction of information learned from train set by minimum-trained classifier: 1.00000\n",
      "Fraction of information learned from train set by tenth-trained classifier: 0.77871\n",
      "Fraction of information learned from train set by fully-trained classifier: 0.77557\n"
     ]
    }
   ],
   "source": [
    "full_trained_train_info_rate = btv.core.model_extraction_rate(clf, X_train, y_train)\n",
    "tenth_trained_train_info_rate = btv.core.model_extraction_rate(\n",
    "    clf, X_train[: len(y_train) // 10], y_train[: len(y_train) // 10]\n",
    ")\n",
    "min_trained_train_info_rate = btv.core.model_extraction_rate(clf, X_min, y_min)\n",
    "\n",
    "print(\n",
    "    f\"Fraction of information learned from train set by minimum-trained classifier: {min_trained_train_info_rate:.5f}\"\n",
    ")\n",
    "print(\n",
    "    f\"Fraction of information learned from train set by tenth-trained classifier: {tenth_trained_train_info_rate:.5f}\"\n",
    ")\n",
    "print(\n",
    "    f\"Fraction of information learned from train set by fully-trained classifier: {full_trained_train_info_rate:.5f}\"\n",
    ")"
   ]
  },
  {
   "cell_type": "markdown",
   "id": "89b85c26-f802-4b9d-9767-5a5b7b55b09c",
   "metadata": {},
   "source": [
    "\n",
    "\n",
    "# Training Data Selection\n",
    "So Shnnon information is behaving as expected, giving a quanitative measure of how ignorant a classifier is about certain set of labels. If we are in the position of having to chose a training set however, information alone is not enough. Information a set contains for a given classifier scales with its size, while performance (and information remaining in a test set) once trained does not. What is more, ideally, we would select training data "
   ]
  },
  {
   "cell_type": "code",
   "execution_count": null,
   "id": "6da778ff-9b35-4054-9a9a-26085ebf7c68",
   "metadata": {},
   "outputs": [],
   "source": []
  },
  {
   "cell_type": "code",
   "execution_count": null,
   "id": "aa8424f1-60a6-4376-aeed-0d656f78401b",
   "metadata": {},
   "outputs": [],
   "source": [
    "# Chosing between fine-tuning sets\n",
    "ds = data_tab.getdata(44156, verbose=False)\n",
    "df, X, y = data_tab.dataset2df(ds, class_cols=[\"class\"])\n",
    "X_train, X_test, y_train, y_test = train_test_split(X, y, test_size=0.2)\n",
    "\n",
    "clf = GradientBoostingClassifier(\n",
    "    n_estimators=100, learning_rate=1.0, max_depth=1, random_state=10\n",
    ")\n",
    "clf.fit(X_train, y_train)\n",
    "print(clf.score(X_test, y_test))\n",
    "\n",
    "X_train, X_test, y_train, y_test = train_test_split(X, y, test_size=0.2)\n",
    "X_train, X_dev1, y_train, y_dev1 = train_test_split(X_train, y_train, test_size=0.2)\n",
    "X_train, X_dev2, y_train, y_dev2 = train_test_split(X_train, y_train, test_size=0.2)\n",
    "X_train, X_dev3, y_train, y_dev3 = train_test_split(X_train, y_train, test_size=0.2)\n",
    "X_train, X_dev4, y_train, y_dev4 = train_test_split(X_train, y_train, test_size=0.2)\n",
    "X_train, X_dev5, y_train, y_dev5 = train_test_split(X_train, y_train, test_size=0.2)\n",
    "\n",
    "X_ft_list = [X_dev1, X_dev2, X_dev3, X_dev4, X_dev5]\n",
    "y_ft_list = [y_dev1, y_dev2, y_dev3, y_dev4, y_dev5]"
   ]
  }
 ],
 "metadata": {
  "kernelspec": {
   "display_name": "Python 3 (ipykernel)",
   "language": "python",
   "name": "python3"
  },
  "language_info": {
   "codemirror_mode": {
    "name": "ipython",
    "version": 3
   },
   "file_extension": ".py",
   "mimetype": "text/x-python",
   "name": "python",
   "nbconvert_exporter": "python",
   "pygments_lexer": "ipython3",
   "version": "3.10.12"
  }
 },
 "nbformat": 4,
 "nbformat_minor": 5
}
