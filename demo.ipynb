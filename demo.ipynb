{
 "cells": [
  {
   "cell_type": "code",
   "execution_count": null,
   "id": "764ae232-7bf3-4fa6-ba70-163152a34d9b",
   "metadata": {},
   "outputs": [],
   "source": [
    "from sklearn.ensemble import GradientBoostingClassifier\n",
    "from sklearn.model_selection import train_test_split\n",
    "\n",
    "import btv"
   ]
  },
  {
   "cell_type": "code",
   "execution_count": null,
   "id": "aa8424f1-60a6-4376-aeed-0d656f78401b",
   "metadata": {},
   "outputs": [],
   "source": [
    "# Chosing between fine-tuning sets\n",
    "ds = btv.data_tab.getdata(44156, verbose=False)\n",
    "df, X, y = btv.data_tab.dataset2df(ds, class_cols=[\"class\"])\n",
    "X_train, X_test, y_train, y_test = train_test_split(X, y, test_size=0.2)\n",
    "\n",
    "clf = GradientBoostingClassifier(\n",
    "    n_estimators=100, learning_rate=1.0, max_depth=1, random_state=10\n",
    ")\n",
    "clf.fit(X_train, y_train)\n",
    "print(clf.score(X_test, y_test))\n",
    "\n",
    "X_train, X_test, y_train, y_test = train_test_split(X, y, test_size=0.2)\n",
    "X_train, X_dev1, y_train, y_dev1 = train_test_split(X_train, y_train, test_size=0.2)\n",
    "X_train, X_dev2, y_train, y_dev2 = train_test_split(X_train, y_train, test_size=0.2)\n",
    "X_train, X_dev3, y_train, y_dev3 = train_test_split(X_train, y_train, test_size=0.2)\n",
    "X_train, X_dev4, y_train, y_dev4 = train_test_split(X_train, y_train, test_size=0.2)\n",
    "X_train, X_dev5, y_train, y_dev5 = train_test_split(X_train, y_train, test_size=0.2)\n",
    "\n",
    "X_ft_list = [X_dev1, X_dev2, X_dev3, X_dev4, X_dev5]\n",
    "y_ft_list = [y_dev1, y_dev2, y_dev3, y_dev4, y_dev5]"
   ]
  }
 ],
 "metadata": {
  "kernelspec": {
   "display_name": "Python 3 (ipykernel)",
   "language": "python",
   "name": "python3"
  },
  "language_info": {
   "codemirror_mode": {
    "name": "ipython",
    "version": 3
   },
   "file_extension": ".py",
   "mimetype": "text/x-python",
   "name": "python",
   "nbconvert_exporter": "python",
   "pygments_lexer": "ipython3",
   "version": "3.10.12"
  }
 },
 "nbformat": 4,
 "nbformat_minor": 5
}
