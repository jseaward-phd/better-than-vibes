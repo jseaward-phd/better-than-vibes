{
 "cells": [
  {
   "cell_type": "markdown",
   "id": "5901208c-71e3-44e1-9886-32e628cc1927",
   "metadata": {},
   "source": [
    "# Better Than Vibes\n",
    "#### By J. Seaward\n",
    "\n",
    "While training and fine-tuning models models in a shoestring budget, the question of whether or not we had enough data was a constant problem. Is the problem with the model architecture? the implementation? or do we need more/better data? When I asked how we knew such and such data was enough the answer typically boiled down to \"vibes.\" Let us see if we can do ***better than vibes.***\n",
    "\n",
    "The goal at the outset was to be able to evaluate a fine-tuning or training set without (re)training the model.\n",
    "Have not come up with a way to check the sufficiency of a fine-tunin set in the absence of a task *and* model, nor uncovered a unversal scaling law for model parameters and sufficient dataset size. What we have come up with at this point is a way of prioritizing training data at both the sample and set level allowing for automatic pruning of training sets, allowing for cheaper/fast training without loss of performance, as well as ranking of potential fine-tuning sets. These methods rely on the information content of data labels and some simple geometric considerations. In this work, we consider data features as defining a *dataspace* where the data features behave as a basis for a vactorspace in which the samples lie. The label for ever sample then provides some information about it, which we quantify and estimate. To make evaluation of the data model-independant, we construct a self-ignoring distance weighted k-nearest neighbor classifier (explained below), which is applicable well to any dataspace with a meaningful distance metric, or model whose outputs vary smoothly and slowly in data-space.\n",
    "\n",
    "Marginalia provided in the code blocks.\n",
    "\n",
    "## Introduction: Information Theory\n",
    "\n",
    "Shannon information, $I$, is the measure of information a character in a message brings to a receiver. The information a character $a$ brings is written $$I(a) = -\\log(p_a),$$ where $p_a$ is the probability that the character $a$ will be received. This probability is conditioned on the previous characters in the message *and* prior knowledge about the type of message. For example, a \"u\" following a \"q\" when the message is in English carries almost no information, since \"u\" nearly always follows \"q\" (conversely, any other letter carries large amounts of information, narrowing down the rest of the possible characters to only a handful). On the other hand, if the message were encrypted in such a way that all characters were equally likely, \"u\" after \"q\" would carry just as much information as any other character, them all having equal probability.\n",
    "\n",
    "Turning back to machine learning, we can think of each sample in a test set as a message, beginning with the data and ending with the label(s). A model, then, is a machine that guesses the label(s), conditioned on the data *and* what it has seen during training. What we want a model to do is learn the patterns that allow one to infer the next part of a message, given the first part. A language model trained on English text would have learned that \"u\" nearly allows follows \"q\", for instance. We can then think of each *label* in a data set as holding a certain amount of information, depending on what the model has already learned. From here, we can start asking questions about how much data is enough and which data sets will be more useful for training."
   ]
  },
  {
   "cell_type": "code",
   "execution_count": 1,
   "id": "ef7a114a-2ce7-4fc4-a88c-b6a8f24a5d76",
   "metadata": {},
   "outputs": [
    {
     "name": "stdout",
     "output_type": "stream",
     "text": [
      "OpenML Dataset\n",
      "==============\n",
      "Name..........: electricity\n",
      "Version.......: 13\n",
      "Format........: arff\n",
      "Upload Date...: 2022-07-10 10:34:54\n",
      "Licence.......: Public\n",
      "Download URL..: https://api.openml.org/data/v1/download/22103281/electricity.arff\n",
      "OpenML URL....: https://www.openml.org/d/44156\n",
      "# of features.: 9\n",
      "# of instances: 38474\n"
     ]
    }
   ],
   "source": [
    "# Import the module and get a dataset\n",
    "import btv\n",
    "\n",
    "# 44156 is the id for the \"electricity\" datasset, predicting whether the price of electricty rises or falls week to week.\n",
    "# Feel free to chose another from the openML catalogue (https://www.openml.org/search?type=data&status=active)\n",
    "# Make sure to update the name of the class column argument if necessary.\n",
    "df, X, y = btv.data_tabular.dataset2df(44156, class_cols=[\"class\"], verbose=True)\n",
    "\n",
    "# to reproduce results, uncomment the lines below and use these test/train sets instead of the random ones above\n",
    "import numpy as np\n",
    "\n",
    "train_idx = np.load(\"demo_support/electric_train_set.npy\")\n",
    "test_idx = np.load(\"demo_support/electric_test_set.npy\")\n",
    "X_train, X_test, y_train, y_test = X[train_idx], X[test_idx], y[train_idx], y[test_idx]\n",
    "\n",
    "# For random split, uncomment below:\n",
    "# from sklearn.model_selection import train_test_split\n",
    "# X_train, X_test, y_train, y_test = train_test_split(X, y, test_size=0.2)"
   ]
  },
  {
   "cell_type": "markdown",
   "id": "b46ee45c-cd31-40c3-b648-e4cd3beb9286",
   "metadata": {},
   "source": [
    "### Label information without any data\n",
    "Without looking at the data or deploying any kind of model, the labels necessarily hold a lot of information. All we have to go on to guess the label of any given data point is the frequency of the label's occurrence. The information in each label, $y_i=c_i$, is written $$I(y_i) = -\\log_2[p(y_i=c_i)]$$ where the probability of label $y_i$ being the correct class for the sample, $c_i$, can only be crudely estimated. Note that data of the sample, $x_i$, plays no role and the base of the logarithm makes the unit of information the bit. Call this information given only chance $I^*$, and consider the a prioiri information."
   ]
  },
  {
   "cell_type": "code",
   "execution_count": 2,
   "id": "a3974962-2955-459d-b369-386f3893ce77",
   "metadata": {},
   "outputs": [
    {
     "name": "stdout",
     "output_type": "stream",
     "text": [
      "Information in the test set assuming p(label) == 1/# of classes:\n",
      " 7695.0\n",
      "Information in the test set assuming p(label) == 1/# of label ouccurances:\n",
      " 7694.651180995905\n"
     ]
    }
   ],
   "source": [
    "naive_test_info = btv.core.chance_info(y_test, use_freq=False)\n",
    "frequnecy_test_info = btv.core.chance_info(y_test, use_freq=True)\n",
    "print(\n",
    "    \"Information in the test set assuming p(label) == 1/# of classes:\\n\",\n",
    "    naive_test_info,\n",
    ")\n",
    "print(\n",
    "    \"Information in the test set assuming p(label) == 1/# of label ouccurances:\\n\",\n",
    "    frequnecy_test_info,\n",
    ")"
   ]
  },
  {
   "cell_type": "markdown",
   "id": "5eb18cce-78ea-47c8-8cea-0fb50030a19a",
   "metadata": {},
   "source": [
    "The frequency-aware information should be *lower* than the one based only on the number of classes, that reflecting the actual distribution of labels better. If they are close, that means the samples are very evenly distributed between the classes.\n",
    "### Information remaining for a trained model\n",
    "After training, a model will be able to use the data to infer the label. Therefore the information in the label for a trained model will be much less than using just frequency statistics. It can be written $$I(y_i|x_i;\\mathrm{clf}) = -\\log_2[p_\\mathrm{clf}(y_i=c_i|x_i)],$$ where $p(y_i=c_i|x_i)$ is the probability estimation the classifier, $\\mathrm{clf}$, gives to the correct class. A *perfect* model would know every label with certainty from it's data, guess every label correctly with probability one, giving $I=0$ for all samples."
   ]
  },
  {
   "cell_type": "code",
   "execution_count": 3,
   "id": "3eb940ff-44b9-4aac-bf76-c8986d825b36",
   "metadata": {},
   "outputs": [
    {
     "name": "stdout",
     "output_type": "stream",
     "text": [
      "Information in the test set from frqunecy stats: 7694.651\n",
      "Information remaining in test set for trained classifier: 1761.151\n",
      "Score when trained on full training set: : 0.81092\n"
     ]
    }
   ],
   "source": [
    "from sklearn.ensemble import GradientBoostingClassifier  # a classic for tabulat data\n",
    "\n",
    "# feel free to use another classifier. The methods called will be .fit(X,y), .predict_proba(X), and .score(X,y)\n",
    "clf = GradientBoostingClassifier(\n",
    "    n_estimators=100, learning_rate=1.0, max_depth=1, random_state=10\n",
    ")\n",
    "clf.fit(X_train, y_train)\n",
    "predicted_label_probabilities = clf.predict_proba(X_test)\n",
    "trained_test_info = btv.core.prediction_info(\n",
    "    y_test, predicted_label_probabilities\n",
    ").sum()  # function returns the information of each label\n",
    "full_train_score = clf.score(X_test, y_test)\n",
    "\n",
    "print(f\"Information in the test set from frqunecy stats: {frequnecy_test_info:.3f}\")\n",
    "print(\n",
    "    f\"Information remaining in test set for trained classifier: {trained_test_info:.3f}\"\n",
    ")\n",
    "print(f\"Score when trained on full training set: : {full_train_score:0.5f}\")"
   ]
  },
  {
   "cell_type": "markdown",
   "id": "0c08dcab-2a13-4e48-9dbf-c0ae62d30d6d",
   "metadata": {},
   "source": [
    "Since the Shannon information of message can be thought of as the amount of information needed to specify the message, a better-trained model need less information about (or \"leave less information in\" if you use the thermodynamic analogy of information being hidden in a system) a test set."
   ]
  },
  {
   "cell_type": "code",
   "execution_count": 4,
   "id": "0377d2ea-d47b-462a-a85c-4d562c98ee12",
   "metadata": {},
   "outputs": [
    {
     "name": "stdout",
     "output_type": "stream",
     "text": [
      "Information in the test set from frqunecy stats: 7694.651\n",
      "Information remaining in test set for fully-trained classifier: 1761.151\n",
      "Score when trained on full training set: : 0.81092\n",
      "Information remaining in test set for minimum-trained classifier: 2889.147\n",
      "Score when trained on minimum training set: : 0.61663\n",
      "Information remaining in test set for classifier trained on almost all 0 labels: 3561.000\n",
      "Score when trained on almost all 0 labels : 0.53723\n"
     ]
    }
   ],
   "source": [
    "import numpy as np\n",
    "\n",
    "# Select a minimum training set, one that only includes one of every label\n",
    "min_idx, _ = btv.core.collect_min_set(y_train)\n",
    "X_min, y_min = X_train[min_idx], y_train[min_idx]\n",
    "# Fitting to this minimum set will result in a functional, but poor classifier\n",
    "clf.fit(X_min, y_min)\n",
    "min_trained_predicted_test_probabilities = clf.predict_proba(X_test)\n",
    "min_trained_test_info = btv.core.prediction_info(\n",
    "    y_test, min_trained_predicted_test_probabilities\n",
    ").sum()\n",
    "min_trained_score = clf.score(X_test, y_test)\n",
    "\n",
    "# a training set of almost all zeros will not tell us much about the test set\n",
    "idx_0s = np.where(y_train == 0)[0]\n",
    "idx_0splus1 = np.unique(np.append(min_idx, idx_0s))\n",
    "clf.fit(X_train[idx_0splus1], y_train[idx_0splus1])\n",
    "almost_all_zero_test_info = btv.core.prediction_info(\n",
    "    y_test, clf.predict_proba(X_test)\n",
    ").sum()\n",
    "zeros_test_score = clf.score(X_test, y_test)\n",
    "\n",
    "print(f\"Information in the test set from frqunecy stats: {frequnecy_test_info:.3f}\")\n",
    "print(\n",
    "    f\"Information remaining in test set for fully-trained classifier: {trained_test_info:.3f}\"\n",
    ")\n",
    "print(f\"Score when trained on full training set: : {full_train_score:0.5f}\")\n",
    "print(\n",
    "    f\"Information remaining in test set for minimum-trained classifier: {min_trained_test_info:.3f}\"\n",
    ")\n",
    "print(f\"Score when trained on minimum training set: : {min_trained_score:0.5f}\")\n",
    "print(\n",
    "    f\"Information remaining in test set for classifier trained on almost all 0 labels: {almost_all_zero_test_info:.3f}\"\n",
    ")\n",
    "print(f\"Score when trained on almost all 0 labels : {zeros_test_score:0.5f}\")"
   ]
  },
  {
   "cell_type": "markdown",
   "id": "578ddcba-d7a0-4ff2-b59b-b6269610f7ce",
   "metadata": {},
   "source": [
    "NB: When using a random forest classifier on the electricity data set (OpenML id = 44156), and the train/test split aved in `./demo_support/`, the classifier trained on almost all zeros did *worse* than on trained on only two samples. It left more information in the test set ($\\approx$1100 bits) and scored $\\approx$8% worse ($\\approx$53% accuracy). This is not too surprizing since the training set with only one sample of each labels reflects the class balance of the test set.\n",
    "\n",
    "This gives us a way to quantify how much information a training set has for a classifier **about** a test set, but only if we are willing to retrain. In that sense it is only another evaluation metric and does not cut out the slow/expensive part of model development. However, when applied to training sets, the more ignorant a classifier is about a set, the more it can potentially learn from it.\n",
    "\n",
    "#### Looking at the information remaining in the training set after training on subsets of it:"
   ]
  },
  {
   "cell_type": "code",
   "execution_count": 12,
   "id": "389ec679-d252-4061-b6f7-398c5f1c0a29",
   "metadata": {
    "scrolled": true
   },
   "outputs": [
    {
     "name": "stdout",
     "output_type": "stream",
     "text": [
      "Information in the training set from frqunecy stats: 30778.913\n",
      "Information remaining in train set for minimum-trained classifier: 11439.607\n",
      "Information remaining in train set for tenth-trained classifier: 7171.968\n",
      "Information remaining in train set for fully-trained classifier: 6907.605\n"
     ]
    }
   ],
   "source": [
    "frequnecy_train_info = btv.core.chance_info(y_train)\n",
    "clf.fit(X_train, y_train)\n",
    "full_trained_train_info = btv.core.prediction_info(\n",
    "    y_train, clf.predict_proba(X_train)\n",
    ").sum()\n",
    "clf.fit(X_train[: len(y_train) // 10], y_train[: len(y_train) // 10])\n",
    "tenth_trained_train_info = btv.core.prediction_info(\n",
    "    y_train, clf.predict_proba(X_train)\n",
    ").sum()\n",
    "clf.fit(X_min, y_min)\n",
    "min_trained_train_info = btv.core.prediction_info(\n",
    "    y_train, clf.predict_proba(X_train)\n",
    ").sum()\n",
    "\n",
    "print(\n",
    "    f\"Information in the training set from frqunecy stats: {frequnecy_train_info:.3f}\"\n",
    ")\n",
    "print(\n",
    "    f\"Information remaining in train set for minimum-trained classifier: {min_trained_train_info:.3f}\"\n",
    ")\n",
    "print(\n",
    "    f\"Information remaining in train set for tenth-trained classifier: {tenth_trained_train_info:.3f}\"\n",
    ")\n",
    "print(\n",
    "    f\"Information remaining in train set for fully-trained classifier: {full_trained_train_info:.3f}\"\n",
    ")"
   ]
  },
  {
   "cell_type": "markdown",
   "id": "6ec7e4ce-a439-478c-86c2-71d434ef07d9",
   "metadata": {},
   "source": [
    "The amount of informtion remaining in the entire training set may not be significantly lower when training on all of it vs. training on the whole thing (depending on the clssifier). This hints at the redundancy of training data. In order to find that redundancy, we introduce a modified distance weighted k-nearest neighbor model: the self-drop dknn.\n",
    "\n",
    "## Estimating Data Redudancy: The Self-Drop d-KNN\n",
    "A distance weight k-nearest neighbor classifier will take take the weighted average of the classes of the test point's $k$ nearest neighbors to dertimine the probability if its class. The average being weighted by $1/d_i$ where $d_i$ where $d_i$ is the distance to the $i^{th}$ neighbor. This assumes that data points whose features take simillar values (i.e. data points that are *close* in the data-space) are likely to be in the same class. Since this is such a broadly applicable assumption (e.g. metric embedding spaces, data ameanable to clustering, etc.) we take is as a basis for estimating the information a training set has about itself.\n",
    "\n",
    "A d-knn classifier assigns probabilites to all classes for each point in data space, whether labelled or not. The label on a labelled point provides the classifier with $I(y|x)=0$ because the classifier knows the label there with probability $1$. Likewise, the label on a point near one of the same class (see point highlighted in blue bellow), will provide very little information, since the probability assigned to the correct class is high. Conversely, a point near points of *unlike* class (see point highlighted in red) will provide much more information."
   ]
  },
  {
   "cell_type": "code",
   "execution_count": 13,
   "id": "64475d80-2059-491c-beb1-f3831d95eb9d",
   "metadata": {},
   "outputs": [
    {
     "data": {
      "image/png": "[encoded data removed]",
      "text/plain": [
       "<Figure size 640x480 with 1 Axes>"
      ]
     },
     "metadata": {},
     "output_type": "display_data"
    }
   ],
   "source": [
    "# Example dataspace visualization\n",
    "from matplotlib import pyplot as plt\n",
    "\n",
    "c1 = np.array([[1, 1], [1.1, 1.5], [1.2, 1.3], [0.8, 1.15]])\n",
    "c2 = np.array([[3, 3], [2.8, 3.1], [2.9, 2.9], [1.1, 1], [2.5, 2.8], [2.8, 2.76]])\n",
    "\n",
    "plt.scatter(c1[:, 0], c1[:, 1], marker=\"x\", label=\"Class 1\")\n",
    "plt.scatter(c2[:, 0], c2[:, 1], marker=\"o\", label=\"Class 2\")\n",
    "plt.xlim([0, 3.5])\n",
    "plt.ylim([0, 3.5])\n",
    "plt.xlabel(\"Feature 1\")\n",
    "plt.ylabel(\"Feature 2\")\n",
    "plt.title(\"Example Dataspace\")\n",
    "plt.arrow(1.35, 0.75, -0.15, 0.15, width=0.02, color=\"r\")\n",
    "plt.arrow(3.15, 2.65, -0.15, 0.15, width=0.02)\n",
    "plt.legend()\n",
    "plt.show()"
   ]
  },
  {
   "cell_type": "markdown",
   "id": "adf3a350-b823-4911-80d7-489e1acdcd6b",
   "metadata": {},
   "source": [
    "So, a d-knn can estimate how informative a label at a point is given the point's neighbors and thus estimate which labels are most important to keep in a training set and which ones an be discarded. However, a vanilla knn will always return $I(y_i|x_i) = 0$ for all $(x_i,y_i)$ in its training set. That is what \"self-drop\" adresses. We provide a custom weights function (`fns._src._dist_weight_ignore_self`) which assigns a weight of $0$ to neighbors with $d=0$ instead of letting them determine the outcome of the classifier. This lets us estimate the amount of infrmation a trainig set has about itself."
   ]
  },
  {
   "cell_type": "code",
   "execution_count": 14,
   "id": "acaab68d-e9e7-4c6c-ba3e-e7af13ef46ef",
   "metadata": {},
   "outputs": [
    {
     "name": "stdout",
     "output_type": "stream",
     "text": [
      "Information in the training set from frqunecy stats: 30778.913\n",
      "Information remaining in train set for vanilla dknn classifier: 0.000\n",
      "Estimated training set self-information: 6740.530\n",
      "Information remaining in train set for fully-trained classifier: 6907.605\n"
     ]
    }
   ],
   "source": [
    "train_set_self_info = btv.core.estimate_info(X_train, y_train)\n",
    "clf_knn = btv.core.fit_dknn_toXy(X_train, y_train)\n",
    "knn_trained_info = btv.core.prediction_info(\n",
    "    y_train, clf_knn.predict_proba(X_train)\n",
    ").sum()\n",
    "\n",
    "print(\n",
    "    f\"Information in the training set from frqunecy stats: {frequnecy_train_info:.3f}\"\n",
    ")\n",
    "print(\n",
    "    f\"Information remaining in train set for vanilla dknn classifier: {knn_trained_info:.3f}\"\n",
    ")\n",
    "print(f\"Estimated training set self-information: {train_set_self_info:.3f}\")\n",
    "print(\n",
    "    f\"Information remaining in train set for fully-trained classifier: {full_trained_train_info:.3f}\"\n",
    ")"
   ]
  },
  {
   "cell_type": "markdown",
   "id": "b1c01036-a3aa-4302-925b-081b4e58e5bf",
   "metadata": {},
   "source": [
    "We can see that the information estimated by th self-drop knn is close to information remaining in the training set for the RF classifier, 6740 vs. 6907 bits out of 30,778 bits, a difference of $\\approx$0.5%.\n",
    "\n",
    "If this is a good estimation, we can exclude points with low information from the training set and retain performance."
   ]
  },
  {
   "cell_type": "code",
   "execution_count": null,
   "id": "d7f31a7e-5a17-4e99-a4ba-5a6367102481",
   "metadata": {},
   "outputs": [],
   "source": []
  },
  {
   "cell_type": "code",
   "execution_count": null,
   "id": "7521910e-dff4-4063-9e03-ad2b9046f39f",
   "metadata": {},
   "outputs": [],
   "source": [
    "# Scanning info pruning threshold.\n",
    "idx_0pruned = btv.selection.prune_by_info(\n",
    "    X_train, y_train, thresh=0\n",
    ")  # setting threshold to 0 bits, just to be safe\n",
    "clf.fit(X_train[idx_0pruned], y_train[idx_0pruned])\n",
    "pruned_score = clf.score(X_test, y_test)\n",
    "\n",
    "print(f\"Score when trained on full training set: : {full_train_score:0.5f}\")\n",
    "print(\n",
    "    f\"Length of I>0 pruned training set is {len(idx_0pruned)} samples, {len(idx_0pruned)/len(y_train) * 100:0.2f}% of the full training set.\"\n",
    ")\n",
    "print(f\"Score when trained on pruned set: : {pruned_score:0.5f}\")\n",
    "\n",
    "scores, lengths, best_threshold = btv.routines.scan_info_thresh(\n",
    "    X_train, y_train, X_test, y_test, clf, plot=True\n",
    ")\n",
    "# plotting routine returns lists of score, dataset lengths, and the threshold that scores the highest."
   ]
  },
  {
   "cell_type": "markdown",
   "id": "153f5436-463a-4daa-8909-b4b509463f72",
   "metadata": {},
   "source": [
    "NB: With the provided data, trained on points with $I>0$ the RF classifier perfomed **better** than when trained on the full set, an accuracy of 0.81442 vs 0.81092.\n",
    "\n",
    "## Training Set Selection\n",
    "When chosing a training set, we want to chose one that is as informative as possible. Ideally, it is iformative about the *test* set, but if the training set represents the test set, we can use the self-information about the training set to prioritize the training data, as shown above. However, to compare training sets of different sizes, we need a metric that is insensitive to the size of the set. Rather than use entropy (the average infromation per label), we use the *information rate*, $$r(X,Y;\\mathrm{clf}) = \\frac{I^*(X,Y) - \\sum_iI(y_i|x_i;\\mathrm{clf})}{I^*(X,Y)} \\qquad \\text{for  } x_i \\in X, \\;y_y \\in Y.$$ If $I^*(X,Y)$ is the a priori information in the dataset $(X,Y)$, then the sum gives us the total information left in by the classifier, $\\mathrm{clf}$. Dividing by $I^*$ givess us the protion of the information the classifier has learned. This can be thought of in terms of the extraction rate of the model:"
   ]
  },
  {
   "cell_type": "code",
   "execution_count": 15,
   "id": "21a28951-7d7c-4f45-a8c7-1d89b19e8444",
   "metadata": {},
   "outputs": [
    {
     "name": "stdout",
     "output_type": "stream",
     "text": [
      "Fraction of information learned from train set by minimum-trained classifier: 1.00000\n",
      "Fraction of information learned from train set by tenth-trained classifier: 0.77871\n",
      "Fraction of information learned from train set by fully-trained classifier: 0.77557\n"
     ]
    }
   ],
   "source": [
    "full_trained_train_info_rate = btv.core.model_extraction_rate(clf, X_train, y_train)\n",
    "tenth_trained_train_info_rate = btv.core.model_extraction_rate(\n",
    "    clf, X_train[: len(y_train) // 10], y_train[: len(y_train) // 10]\n",
    ")\n",
    "min_trained_train_info_rate = btv.core.model_extraction_rate(clf, X_min, y_min)\n",
    "\n",
    "print(\n",
    "    f\"Fraction of information learned from train set by minimum-trained classifier: {min_trained_train_info_rate:.5f}\"\n",
    ")\n",
    "print(\n",
    "    f\"Fraction of information learned from train set by tenth-trained classifier: {tenth_trained_train_info_rate:.5f}\"\n",
    ")\n",
    "print(\n",
    "    f\"Fraction of information learned from train set by fully-trained classifier: {full_trained_train_info_rate:.5f}\"\n",
    ")"
   ]
  },
  {
   "cell_type": "markdown",
   "id": "8ccf425a-a82b-4bda-afcf-35ab8eacda6f",
   "metadata": {},
   "source": [
    "or as an estmiation of the informitaveness of the dataset using a self-drop d-knn:"
   ]
  },
  {
   "cell_type": "code",
   "execution_count": 18,
   "id": "dd89e557-7ddf-4f22-aa19-ce5f3f30294e",
   "metadata": {},
   "outputs": [
    {
     "name": "stdout",
     "output_type": "stream",
     "text": [
      "Self-information rate of almost all zeros train set: 0.91626\n",
      "Self-information rate of pruned training set: 0.70489\n",
      "Self-information rate of first tenth of training set: 0.73803\n",
      "Self-information rate of the full training set: 0.78100\n",
      "Self-information rate of the test set: 0.75520\n"
     ]
    }
   ],
   "source": [
    "almost_all_zero_info_rate = btv.core.estimate_rateVSchance(\n",
    "    X_train[idx_0splus1], y_train[idx_0splus1]\n",
    ")\n",
    "pruned_train_info_rate = btv.core.estimate_rateVSchance(\n",
    "    X_train[idx_0pruned], y_train[idx_0pruned]\n",
    ")\n",
    "tenth_train_info_rate = btv.core.estimate_rateVSchance(\n",
    "    X_train[: len(y_train) // 10], y_train[: len(y_train) // 10]\n",
    ")\n",
    "full_train_info_rate = btv.core.estimate_rateVSchance(X_train, y_train)\n",
    "test_info_rate = btv.core.estimate_rateVSchance(X_test, y_test)\n",
    "\n",
    "\n",
    "print(\n",
    "    f\"Self-information rate of almost all zeros train set: {almost_all_zero_info_rate:.5f}\"\n",
    ")\n",
    "print(f\"Self-information rate of pruned training set: {pruned_train_info_rate:.5f}\")\n",
    "print(\n",
    "    f\"Self-information rate of first tenth of training set: {tenth_train_info_rate:.5f}\"\n",
    ")\n",
    "print(f\"Self-information rate of the full training set: {full_train_info_rate:.5f}\")\n",
    "print(f\"Self-information rate of the test set: {test_info_rate:.5f}\")"
   ]
  },
  {
   "cell_type": "markdown",
   "id": "d8fd0fdb-c265-47f6-95a4-693c91becf90",
   "metadata": {},
   "source": [
    "NB: Using the saved training sets, the information rate of the pruned dataset is significantly lower than the full training set AND the first tenth of the dataset (0.705 vs. 0.781 vs 0.738). This is not surprrising since the low-information points have been dropped, there is not enough information to correctly reconstruct them from their neighbors. The remaining points are the informative ones for training, including the ones the self-drop d-knn tests at.\n",
    "\n",
    "If the test set is similar in structue and content to the test set, it's information rate should tell us something about how a classifier trained on it will perform on the test set."
   ]
  },
  {
   "cell_type": "code",
   "execution_count": 11,
   "id": "2b7ac646-f1c5-4c02-9464-29892c6853ee",
   "metadata": {},
   "outputs": [
    {
     "name": "stderr",
     "output_type": "stream",
     "text": [
      "100%|█████████████████████████████████████████████████████████████| 154/154 [02:04<00:00,  1.24it/s]\n"
     ]
    },
    {
     "data": {
      "image/png": "[encoded data removed]",
      "text/plain": [
       "<Figure size 640x480 with 2 Axes>"
      ]
     },
     "metadata": {},
     "output_type": "display_data"
    },
    {
     "name": "stdout",
     "output_type": "stream",
     "text": [
      "Score when training on full dataset: 0.81092, (30779 training samples)\n",
      "Score on pruned set: 0.81442, (23480) training samples.\n",
      "Max score from scanning dataset length: 0.81391, (12814 training samples)\n"
     ]
    }
   ],
   "source": [
    "# # How informaation rate scales with dataset size\n",
    "from tqdm import trange\n",
    "\n",
    "clf_knn = btv.core.fit_dknn_toXy(X_train, y_train, self_exclude=True)\n",
    "info_rate = []\n",
    "scores = []\n",
    "# set to twice the number of features to cut off very small sets like X_min\n",
    "start = X_train.shape[1] * 2\n",
    "\n",
    "for i in trange(start, len(y_train) + 1, 200):\n",
    "    info_rate.append(btv.core.estimate_rateVSchance(X_train[:i], y_train[:i], clf_knn))\n",
    "    clf.fit(X_train[:i], y_train[:i])\n",
    "    scores.append(clf.score(X_test, y_test))\n",
    "\n",
    "rate_line = plt.plot(\n",
    "    np.arange(start, len(y_train), 200), info_rate, label=\"Information rate\"\n",
    ")\n",
    "ax1 = plt.gca()\n",
    "ax1.set_ylabel(\"Information rate\")\n",
    "ax2 = ax1.twinx()\n",
    "score_line = ax2.plot(\n",
    "    np.arange(start, len(y_train), 200), scores, color=\"tab:orange\", label=\"Score\"\n",
    ")\n",
    "ax2.set_ylabel(\"Score on test set\")\n",
    "plt.title(\"Information rate scales like score dataset size\")\n",
    "plt.xlabel(\"Size of dataset [number of samples]\")\n",
    "\n",
    "lines = rate_line + score_line\n",
    "lbls = [x.get_label() for x in lines]\n",
    "plt.legend(lines, lbls)\n",
    "plt.show()\n",
    "\n",
    "print(\n",
    "    f\"Score when training on full dataset: {full_train_score:0.5f}, ({len(y_train)} training samples).\"\n",
    ")\n",
    "print(\n",
    "    f\"Score on pruned set: {pruned_score:0.5f}, ({len(idx_0pruned)} training samples).\"\n",
    ")\n",
    "print(\n",
    "    f\"Max score from scanning dataset length: {np.max(scores):0.5f}, ({np.argmax(scores)*200+start} training samples).\"\n",
    ")"
   ]
  },
  {
   "cell_type": "markdown",
   "id": "17bf9653-b9c2-421b-a902-d04aa52946e6",
   "metadata": {},
   "source": [
    "NB In the provided data sets, the classifier score higher when trained on the information-aware pruned set (0.8144, 23480 training samples) than when selecting the highest score while scanning the length of the whole training set (0.8139, 12814 training samples). This is not true of all splites, however. Rerun `X_train, X_test, y_train, y_test = train_test_split(X, y, test_size=0.2)` to check. \n",
    "\n",
    "If we can use the training set as a stand-in for the test set when estimating what datapoints are most informative, we can prioritize the more informative training data. The routine called in the cells bellow splits the training data into stratified folds, estimates the information rate of each one, takes adds the fold with the highest rate to the training data, refits the provided classifier, then re-enters the loop on the remaining training data. It repeats this loop for until it exhausts the training data or `patience` batches pass without encountering a improvementin score on an internal test set. If no indices are provided for an internal test set, one of the folds is used."
   ]
  },
  {
   "cell_type": "code",
   "execution_count": 19,
   "id": "db3597a1-2e1b-4569-a4c7-4bea7e057516",
   "metadata": {
    "scrolled": true
   },
   "outputs": [
    {
     "name": "stderr",
     "output_type": "stream",
     "text": [
      " 35%|█████████████████████▋                                        | 35/100 [00:21<00:40,  1.59it/s]"
     ]
    },
    {
     "name": "stdout",
     "output_type": "stream",
     "text": [
      "No improvement in information rate found after adding 15 folds (4616 samples). Fitting on 20 folds, 6466 smaples.\n",
      "Best score: 0.749185667752443 on internal test set.\n"
     ]
    },
    {
     "name": "stderr",
     "output_type": "stream",
     "text": [
      "\n"
     ]
    },
    {
     "name": "stdout",
     "output_type": "stream",
     "text": [
      "Score on test set: 0.80454840805718, trained on 6466 samples.\n"
     ]
    },
    {
     "name": "stderr",
     "output_type": "stream",
     "text": [
      " 24%|██████████████▉                                               | 24/100 [00:06<00:20,  3.68it/s]"
     ]
    },
    {
     "name": "stdout",
     "output_type": "stream",
     "text": [
      "No improvement in information rate found after adding 15 folds (4614 samples). Fitting on 9 folds, 3079 smaples.\n",
      "Best score: 0.7915309446254072 on internal test set.\n"
     ]
    },
    {
     "name": "stderr",
     "output_type": "stream",
     "text": [
      "\n"
     ]
    },
    {
     "name": "stdout",
     "output_type": "stream",
     "text": [
      "Score on test set: 0.8025990903183886, trained on 3079 samples.\n"
     ]
    }
   ],
   "source": [
    "# Can use either a d-kkn:\n",
    "clf_knn_min = btv.core.fit_dknn_toXy(X_train[:15], y_train[:15], self_exclude=False)\n",
    "samples, rates, scores, best_idxs = btv.routines.train_best_fold_first_test(\n",
    "    X_train, y_train, clf_in=clf_knn_min, n_splits=100, patience=15\n",
    ")\n",
    "clf.fit(X_train[best_idxs], y_train[best_idxs])\n",
    "dknn_scanned_score = clf.score(X_test, y_test)\n",
    "dknn_scanned_len = len(best_idxs)\n",
    "print(\n",
    "    f\"Score on test set: {dknn_scanned_score}, trained on {dknn_scanned_len} samples.\"\n",
    ")\n",
    "\n",
    "# Or the classifier of interest, if that is cost-effective\n",
    "clf.fit(X_min, y_min)\n",
    "samples, rates, scores, best_idxs = btv.routines.train_best_fold_first_test(\n",
    "    X_train, y_train, clf_in=clf, n_splits=100, patience=15\n",
    ")\n",
    "clf.fit(X_train[best_idxs], y_train[best_idxs])\n",
    "clf_scanned_score = clf.score(X_test, y_test)\n",
    "clf_scanned_len = len(best_idxs)\n",
    "print(f\"Score on test set: {clf_scanned_score}, trained on {clf_scanned_len} samples.\")"
   ]
  },
  {
   "cell_type": "markdown",
   "id": "cb056636-7214-4122-b0c6-6c274db05708",
   "metadata": {},
   "source": [
    "The table below is a summary of different training data selection methods with the set length and test set score  we achieved listed. Best values highlighted in bold.\n",
    "\n",
    "|Selection method | Training set length | Score on test set| Approx time to select [s] |\n",
    "|:----------------|:-------------------:|:----------------:|:----------------:|\n",
    "| None            | 30,779              |     0.81092      | 0 |\n",
    "| Prune 0-info points |  23,480         | **0.81442**      | <1 |\n",
    "| Scan training set, stop on test score | 12,814 | 0.81391 | 120 |\n",
    "|Prioritize hi-info training folds ($d$-knn) | 6,466 | 0.80455 | 20 |\n",
    "|Prioritize hi-info training folds (clf) | **3,079** | 0.80260 |  5 |\n",
    "\n",
    "## Fine-tuning set selection\n",
    "Using the information rate proves an effective way to prune training data without losing signifocant performance. Now we consider the case where you have a trained model you wish to fine-tune. To do this, you must have a test set which defines your task, but you may be using a foundational model whose training data you do not have access to. The data selection task is then to chose between different pieces of training data for fine-tuning. When considering a fine-tuning set, we add two cinsiderations: the problem of class imbalanced datasets and geometrical measures of similarity. \n",
    "\n",
    "#### Class balance Ratio\n",
    "Datasets with high class imbalance can have high information rates. The set of >15,0000 samples of one class and one of the other has $r\\approx0.916$. "
   ]
  },
  {
   "cell_type": "code",
   "execution_count": 20,
   "id": "d3d2bc55-bc77-42e2-8674-88604115a0f0",
   "metadata": {},
   "outputs": [
    {
     "name": "stdout",
     "output_type": "stream",
     "text": [
      "Amost all zeros info rate:  0.9162579366475848\n"
     ]
    }
   ],
   "source": [
    "print(\"Amost all zeros info rate: \", almost_all_zero_info_rate)"
   ]
  },
  {
   "cell_type": "markdown",
   "id": "af44ba89-d0ea-45b9-b4b7-91a67909986f",
   "metadata": {},
   "source": [
    "To catch sets like this with strong class difference we can define a *class balance ratio*, which is the ratio of the iformation in the label set when using class frequency statisitics to the information present when using a perfectly flat class distribution. This will be $\\le\\!1$ since thhe frequency statistics will always provide some information when guessing the labels. In a good training set this will be close to the class ratio of the test set."
   ]
  },
  {
   "cell_type": "code",
   "execution_count": 37,
   "id": "2597915e-3627-47d3-8b1c-093d4aea6cb9",
   "metadata": {},
   "outputs": [
    {
     "name": "stdout",
     "output_type": "stream",
     "text": [
      "Test set class balance ratio: 0.9999546693951793\n",
      "Full train set class balance ratio: 0.9999971666809189\n",
      "Minimum train set class balance ratio: 1.0\n",
      "Low-entropy train set class balance ratio: 0.000995736785206791\n"
     ]
    }
   ],
   "source": [
    "print(f\"Test set class balance ratio: {btv.core.class_balance_ratio(y_test)}\")\n",
    "print(f\"Full train set class balance ratio: {btv.core.class_balance_ratio(y_train)}\")\n",
    "print(f\"Minimum train set class balance ratio: {btv.core.class_balance_ratio(y_min)}\")\n",
    "print(\n",
    "    f\"Low-entropy train set class balance ratio: {btv.core.class_balance_ratio(y_train[idx_0splus1])}\"\n",
    ")"
   ]
  },
  {
   "cell_type": "markdown",
   "id": "11296476-2dc7-4f31-ae49-992a9cf1e9b1",
   "metadata": {},
   "source": [
    "Calculating the class balance ratio also provides a good check for when a subset has not been shuffled properly."
   ]
  },
  {
   "cell_type": "code",
   "execution_count": 36,
   "id": "6a4c6d25-5284-4e0e-95b0-4b1f08ac415b",
   "metadata": {},
   "outputs": [
    {
     "name": "stdout",
     "output_type": "stream",
     "text": [
      "Class balance ratio for first 1,000 samples in original set: nan\n",
      "All 1,000 labels are the smae:  True\n"
     ]
    }
   ],
   "source": [
    "print(\n",
    "    f\"Class balance ratio for first 1,000 samples in original set: {btv.core.class_balance_ratio(y[:1000])}\"\n",
    ")\n",
    "print(\"All 1,000 labels are the same: \", all([label == y[0] for label in y[:1000]]))"
   ]
  },
  {
   "cell_type": "markdown",
   "id": "22d9ddb6-739c-4302-b240-5867fb29242f",
   "metadata": {},
   "source": [
    "Now we have a way to elimate datasets whose class balance differs strongly from the test set. \n",
    "\n",
    "#### Geometric similarity measures\n",
    "When fine-tuning a model, it is useful to have fine-tuning data the is different from the data the model was originally trained on and simmilar to the test data defining the task. In this package we estimate difference and similatiry using the *overflow* and *overlap* of the convex hulls of the datasets. We use convex hulls because they are computationaly tractable in high dimension in a way that precise volumetric integrations are not. Otherwise, we would be comparing information densities at different locations.\n",
    "\n",
    "The overflow of set $X_1$ from $X_2$ is the volume of data in $X_1$ outside the hull of $X_2$, given by $$ OF(X_1,X_2) = V(\\mathrm{Conv}(X_1\\cup X_2)) -   V(\\mathrm{Conv}(X_2)),$$ where $\\mathrm{Conv}(\\cdot)$ gives the convex hull of a set of points and $V(\\cdot)$ gives the volume of a shape. Since overlap uses the covex hull this can be thrown off by outliers. Normalizing by $V(\\mathrm{Conv}(X_1))$ can help with this since it estimates the protion of $X_1$ outside of $X_2$ which may be more interpretable and will be less sensitive to a few outliers. \n",
    "\n",
    "The overlap of $X_1$ with $X_2$ is the volume of $\\mathrm{Conv}(X_1)$ inside of $\\mathrm{Conv}(X_2)$ and is simply $$OL(X_1,X_2) = V(\\mathrm{Conv}(X_1)) - OF(X_1,X_2).$$\n",
    "\n",
    "Functions for these quantities are `btv.selection.estimate_overflow` and `btv.selection.estimate_overlap`\n",
    "\n",
    "In the context of dataset selection, a good fine-tuning set should have a large overlap with the test set (for obvious reasons) and a large overflow from the training data, indicating it is now to the model. Without access to the orginal training data, one can use the information given by the trained classifier; data in has seem before will have litte information for it.\n",
    "\n",
    "## The selection routine\n",
    "The function called bellow, `btv.selection.select_ft_sets` takes in ordered list of fine-tuning set and selects, scores, and ranks them on different metrics\n",
    "\n",
    "btv.selection.fuzzy_argrank` does anything for you. It allows a tolerance between scores to count as a tie and them passes those elements back in an unchanged block where the block is ranked by its average."
   ]
  },
  {
   "cell_type": "code",
   "execution_count": null,
   "id": "89081ece-0693-4b5d-947a-50368cc627a5",
   "metadata": {},
   "outputs": [],
   "source": []
  },
  {
   "cell_type": "code",
   "execution_count": null,
   "id": "48a35c07-0ca3-4c5f-86d8-d5645c7b87bd",
   "metadata": {},
   "outputs": [],
   "source": []
  },
  {
   "cell_type": "code",
   "execution_count": 5,
   "id": "aa8424f1-60a6-4376-aeed-0d656f78401b",
   "metadata": {},
   "outputs": [
    {
     "name": "stdout",
     "output_type": "stream",
     "text": [
      "Test set class balance ratio is 0.99995.\n",
      "Information of test set estimated at 1883.62049.\n",
      "Information rate of test set estimated at 0.75520.\n",
      "Fine-tune sets must have an information rate of 0.73255 for inclusion.\n"
     ]
    },
    {
     "name": "stderr",
     "output_type": "stream",
     "text": [
      "Estimating class balance ratio for fine tuning sets..: 100%|████████| 5/5 [00:00<00:00, 1303.47it/s]\n",
      "Estimating self-information rate...: 100%|████████████████████████████| 5/5 [00:00<00:00, 21.56it/s]\n",
      "Checking overlap with test set...: 100%|██████████████████████████████| 5/5 [00:50<00:00, 10.02s/it]\n"
     ]
    },
    {
     "name": "stdout",
     "output_type": "stream",
     "text": [
      "INFO: Dropping fine tuning set at index 4. Estimate that it overlaps with -0.041% of the test set.\n"
     ]
    },
    {
     "name": "stderr",
     "output_type": "stream",
     "text": [
      "Estimating portion outside the training set...: 5it [00:48,  9.64s/it]\n"
     ]
    },
    {
     "name": "stdout",
     "output_type": "stream",
     "text": [
      "+------------------------------------------+\n",
      "|             train_overflows              |\n",
      "+-------------+------+---------------------+\n",
      "| Input index | Rank |        Value        |\n",
      "+-------------+------+---------------------+\n",
      "|      0      |  4   | 0.30710233946112286 |\n",
      "|      1      |  2   |  0.4644187760492607 |\n",
      "|      2      |  1   |  0.6729803409754808 |\n",
      "|      3      |  3   | 0.33515403333026256 |\n",
      "|      4      |  5   |         0.0         |\n",
      "+-------------+------+---------------------+\n",
      "+-----------------------------------------+\n",
      "|                info_rates               |\n",
      "+-------------+------+--------------------+\n",
      "| Input index | Rank |       Value        |\n",
      "+-------------+------+--------------------+\n",
      "|      0      |  2   | 0.7494890645570793 |\n",
      "|      1      |  1   | 0.7525532777236144 |\n",
      "|      2      |  3   | 0.7440964052912885 |\n",
      "|      3      |  5   | 0.7423368356046793 |\n",
      "|      4      |  4   | 0.7425590443282877 |\n",
      "+-------------+------+--------------------+\n",
      "+------------------------------------------+\n",
      "|              test_overlaps               |\n",
      "+-------------+------+---------------------+\n",
      "| Input index | Rank |        Value        |\n",
      "+-------------+------+---------------------+\n",
      "|      0      |  1   |  0.4398247576842282 |\n",
      "|      1      |  3   |  0.3070535655505199 |\n",
      "|      2      |  4   | 0.09942164285880616 |\n",
      "|      3      |  2   |  0.3083110024345355 |\n",
      "|      4      |  5   |         0.0         |\n",
      "+-------------+------+---------------------+\n",
      "Values of 0.0 indicate a dataset excluded during the threshold checks.\n",
      "Dropped sets are assigned a 'rank' of -1.\n",
      "New all-train score: 0.8240777469258231\n"
     ]
    },
    {
     "ename": "ValueError",
     "evalue": "all the input array dimensions except for the concatenation axis must match exactly, but along dimension 1, the array at index 0 has size 10084 and the array at index 1 has size 6156",
     "output_type": "error",
     "traceback": [
      "\u001b[0;31m---------------------------------------------------------------------------\u001b[0m",
      "\u001b[0;31mValueError\u001b[0m                                Traceback (most recent call last)",
      "Cell \u001b[0;32mIn[5], line 32\u001b[0m\n\u001b[1;32m     30\u001b[0m \u001b[38;5;28;01mfor\u001b[39;00m i,(X_ft,y_ft) \u001b[38;5;129;01min\u001b[39;00m \u001b[38;5;28menumerate\u001b[39m(\u001b[38;5;28mzip\u001b[39m(X_ft_list, y_ft_list)):\n\u001b[1;32m     31\u001b[0m     new_x \u001b[38;5;241m=\u001b[39m np\u001b[38;5;241m.\u001b[39mvstack([X_train,X_ft])\n\u001b[0;32m---> 32\u001b[0m     new_y \u001b[38;5;241m=\u001b[39m \u001b[43mnp\u001b[49m\u001b[38;5;241;43m.\u001b[39;49m\u001b[43mvstack\u001b[49m\u001b[43m(\u001b[49m\u001b[43m[\u001b[49m\u001b[43my_train\u001b[49m\u001b[43m,\u001b[49m\u001b[43my_ft\u001b[49m\u001b[43m]\u001b[49m\u001b[43m)\u001b[49m\n\u001b[1;32m     33\u001b[0m     clf\u001b[38;5;241m.\u001b[39mfit(new_x,new_y)\n\u001b[1;32m     34\u001b[0m     \u001b[38;5;28mprint\u001b[39m(\u001b[38;5;124mf\u001b[39m\u001b[38;5;124m\"\u001b[39m\u001b[38;5;124mScore for ft set ranked \u001b[39m\u001b[38;5;132;01m{\u001b[39;00mi\u001b[38;5;241m+\u001b[39m\u001b[38;5;241m1\u001b[39m\u001b[38;5;132;01m}\u001b[39;00m\u001b[38;5;124m: \u001b[39m\u001b[38;5;132;01m{\u001b[39;00mclf\u001b[38;5;241m.\u001b[39mscore(X_test,y_test)\u001b[38;5;132;01m:\u001b[39;00m\u001b[38;5;124m0.5f\u001b[39m\u001b[38;5;132;01m}\u001b[39;00m\u001b[38;5;124m\"\u001b[39m)\n",
      "File \u001b[0;32m<__array_function__ internals>:200\u001b[0m, in \u001b[0;36mvstack\u001b[0;34m(*args, **kwargs)\u001b[0m\n",
      "File \u001b[0;32m~/.virtualenvs/study/lib/python3.10/site-packages/numpy/core/shape_base.py:296\u001b[0m, in \u001b[0;36mvstack\u001b[0;34m(tup, dtype, casting)\u001b[0m\n\u001b[1;32m    294\u001b[0m \u001b[38;5;28;01mif\u001b[39;00m \u001b[38;5;129;01mnot\u001b[39;00m \u001b[38;5;28misinstance\u001b[39m(arrs, \u001b[38;5;28mlist\u001b[39m):\n\u001b[1;32m    295\u001b[0m     arrs \u001b[38;5;241m=\u001b[39m [arrs]\n\u001b[0;32m--> 296\u001b[0m \u001b[38;5;28;01mreturn\u001b[39;00m \u001b[43m_nx\u001b[49m\u001b[38;5;241;43m.\u001b[39;49m\u001b[43mconcatenate\u001b[49m\u001b[43m(\u001b[49m\u001b[43marrs\u001b[49m\u001b[43m,\u001b[49m\u001b[43m \u001b[49m\u001b[38;5;241;43m0\u001b[39;49m\u001b[43m,\u001b[49m\u001b[43m \u001b[49m\u001b[43mdtype\u001b[49m\u001b[38;5;241;43m=\u001b[39;49m\u001b[43mdtype\u001b[49m\u001b[43m,\u001b[49m\u001b[43m \u001b[49m\u001b[43mcasting\u001b[49m\u001b[38;5;241;43m=\u001b[39;49m\u001b[43mcasting\u001b[49m\u001b[43m)\u001b[49m\n",
      "File \u001b[0;32m<__array_function__ internals>:200\u001b[0m, in \u001b[0;36mconcatenate\u001b[0;34m(*args, **kwargs)\u001b[0m\n",
      "\u001b[0;31mValueError\u001b[0m: all the input array dimensions except for the concatenation axis must match exactly, but along dimension 1, the array at index 0 has size 10084 and the array at index 1 has size 6156"
     ]
    }
   ],
   "source": [
    "# Chosing between fine-tuning sets, the X/y_dev* sets.\n",
    "from sklearn.model_selection import train_test_split\n",
    "\n",
    "# Uncomment all this suff bellow to start fresh\n",
    "\n",
    "# ds = data_tab.getdata(44156, verbose=False)\n",
    "# df, X, y = data_tab.dataset2df(ds, class_cols=[\"class\"])\n",
    "# X_train, X_test, y_train, y_test = train_test_split(X, y, test_size=0.2)\n",
    "\n",
    "# clf = GradientBoostingClassifier(\n",
    "#     n_estimators=100, learning_rate=1.0, max_depth=1, random_state=10\n",
    "# )\n",
    "# clf.fit(X_train, y_train)\n",
    "# print(clf.score(X_test, y_test))\n",
    "\n",
    "# X_train, X_test, y_train, y_test = train_test_split(X, y, test_size=0.2)\n",
    "X_train, X_dev1, y_train, y_dev1 = train_test_split(X_train, y_train, test_size=0.2)\n",
    "X_train, X_dev2, y_train, y_dev2 = train_test_split(X_train, y_train, test_size=0.2)\n",
    "X_train, X_dev3, y_train, y_dev3 = train_test_split(X_train, y_train, test_size=0.2)\n",
    "X_train, X_dev4, y_train, y_dev4 = train_test_split(X_train, y_train, test_size=0.2)\n",
    "X_train, X_dev5, y_train, y_dev5 = train_test_split(X_train, y_train, test_size=0.2)\n",
    "\n",
    "X_ft_list = [X_dev1, X_dev2, X_dev3, X_dev4, X_dev5]\n",
    "y_ft_list = [y_dev1, y_dev2, y_dev3, y_dev4, y_dev5]\n",
    "\n",
    "X_ft_list, y_ft_list, sort_idx = btv.selection.select_ft_sets(\n",
    "    X_ft_list, y_ft_list, X_test, y_test, X_train\n",
    ")\n",
    "\n",
    "clf.fit(X_train, y_train)  # fit on new, smaller train\n",
    "print(\"New all-train score:\", clf.score(X_train, y_train))\n",
    "for i, (X_ft, y_ft) in enumerate(zip(X_ft_list, y_ft_list)):\n",
    "    new_x = np.vstack([X_train, X_ft])\n",
    "    new_y = np.append(y_train, y_ft)\n",
    "    clf.fit(new_x, new_y)\n",
    "    print(f\"Score for ft set ranked {i+1}: {clf.score(X_test,y_test):0.5f}\")"
   ]
  },
  {
   "cell_type": "markdown",
   "id": "5abf31cc-8515-4407-85c1-e4e076884fda",
   "metadata": {},
   "source": [
    "## That's it!\n",
    "Have a play around with the functions provided. Try different datasets, model and splits. Dig through the code in `_src` to see what I was trying and thinking about. Try out some the other selection methods in `btv.selection`. See if `btv.selection.fuzzy_argrank` does anything for you. `btv.routines`has a few things I found useful durinf development.\n",
    "\n",
    "I am interested in extending this analysis to image data and to see what it could do on semantic metric spaces, such as word2vec or clip embeddings."
   ]
  }
 ],
 "metadata": {
  "kernelspec": {
   "display_name": "Python 3 (ipykernel)",
   "language": "python",
   "name": "python3"
  },
  "language_info": {
   "codemirror_mode": {
    "name": "ipython",
    "version": 3
   },
   "file_extension": ".py",
   "mimetype": "text/x-python",
   "name": "python",
   "nbconvert_exporter": "python",
   "pygments_lexer": "ipython3",
   "version": "3.10.12"
  }
 },
 "nbformat": 4,
 "nbformat_minor": 5
}
