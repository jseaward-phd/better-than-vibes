{
 "cells": [
  {
   "cell_type": "code",
   "execution_count": 4,
   "id": "7f52a6c5-5de0-4baf-8939-33c3f55fa544",
   "metadata": {},
   "outputs": [],
   "source": [
    "from ultralytics import YOLO\n",
    "from sklearn.model_selection import train_test_split \n",
    "\n",
    "from data_img import BTV_Image_Dataset\n",
    "\n",
    "from btv import *\n",
    "\n",
    "from sklearn.ensemble import GradientBoostingClassifier"
   ]
  },
  {
   "cell_type": "code",
   "execution_count": 2,
   "id": "f5c20034-c6bc-4c92-8baa-067c720c80d5",
   "metadata": {},
   "outputs": [
    {
     "ename": "NameError",
     "evalue": "name 'BTV_Image_Dataset' is not defined",
     "output_type": "error",
     "traceback": [
      "\u001b[0;31m---------------------------------------------------------------------------\u001b[0m",
      "\u001b[0;31mNameError\u001b[0m                                 Traceback (most recent call last)",
      "Cell \u001b[0;32mIn[2], line 2\u001b[0m\n\u001b[1;32m      1\u001b[0m \u001b[38;5;66;03m## Smalll data setup\u001b[39;00m\n\u001b[0;32m----> 2\u001b[0m ds \u001b[38;5;241m=\u001b[39m \u001b[43mBTV_Image_Dataset\u001b[49m(\u001b[38;5;124m\"\u001b[39m\u001b[38;5;124mdata/hardhat/test\u001b[39m\u001b[38;5;124m\"\u001b[39m, max_dim\u001b[38;5;241m=\u001b[39m\u001b[38;5;241m256\u001b[39m, imvec_type\u001b[38;5;241m=\u001b[39m\u001b[38;5;124m'\u001b[39m\u001b[38;5;124mbyol\u001b[39m\u001b[38;5;124m'\u001b[39m, embedding_weights\u001b[38;5;241m=\u001b[39m\u001b[38;5;124m'\u001b[39m\u001b[38;5;124m./runs/byol/caltech256+hh.pt\u001b[39m\u001b[38;5;124m'\u001b[39m,numpy\u001b[38;5;241m=\u001b[39m\u001b[38;5;28;01mTrue\u001b[39;00m,device\u001b[38;5;241m=\u001b[39m\u001b[38;5;241m0\u001b[39m)\n\u001b[1;32m      3\u001b[0m idx_train, idx_test \u001b[38;5;241m=\u001b[39m train_test_split(\n\u001b[1;32m      4\u001b[0m     np\u001b[38;5;241m.\u001b[39marange(\u001b[38;5;28mlen\u001b[39m(ds)), test_size\u001b[38;5;241m=\u001b[39m\u001b[38;5;241m0.2\u001b[39m\n\u001b[1;32m      5\u001b[0m )\n\u001b[1;32m      6\u001b[0m (X_train, y_train), (X_test, y_test) \u001b[38;5;241m=\u001b[39m ds[idx_train], ds[idx_test]\n",
      "\u001b[0;31mNameError\u001b[0m: name 'BTV_Image_Dataset' is not defined"
     ]
    }
   ],
   "source": [
    "## Smalll data setup\n",
    "ds = BTV_Image_Dataset(\"data/hardhat/test\", max_dim=256, imvec_type='byol', embedding_weights='./runs/byol/caltech256+hh.pt',numpy=True,device=0)\n",
    "idx_train, idx_test = train_test_split(\n",
    "    np.arange(len(ds)), test_size=0.2\n",
    ")\n",
    "(X_train, y_train), (X_test, y_test) = ds[idx_train], ds[idx_test]"
   ]
  },
  {
   "cell_type": "code",
   "execution_count": 5,
   "id": "e7890199-168d-4625-95cd-7227159251c3",
   "metadata": {},
   "outputs": [
    {
     "name": "stderr",
     "output_type": "stream",
     "text": [
      "Scanning to find normalization parameters...: 100%|████| 5269/5269 [00:16<00:00, 310.64Image file/s]\n",
      "Detemining all classes...: 100%|██████████████████████████████| 5269/5269 [00:02<00:00, 2078.05it/s]\n",
      "Scanning to find normalization parameters...: 100%|████| 1766/1766 [00:04<00:00, 371.16Image file/s]\n",
      "Detemining all classes...: 100%|██████████████████████████████| 1766/1766 [00:00<00:00, 2077.26it/s]\n"
     ]
    }
   ],
   "source": [
    "## Full setup\n",
    "ds_train_byol = BTV_Image_Dataset(\"data/hardhat/train\", max_dim=256, numpy=True, imvec_type='byol', embedding_weights='./runs/byol/caltech256+hh.pt')\n",
    "ds_test_byol = BTV_Image_Dataset(\"data/hardhat/test\", max_dim=256, numpy=True, imvec_type='byol', embedding_weights='./runs/byol/caltech256+hh.pt')\n",
    "X_train, y_train, X_test, y_test = ds_train_byol.X, ds_train_byol.y, ds_test_byol.X, ds_test_byol.y"
   ]
  },
  {
   "cell_type": "code",
   "execution_count": 6,
   "id": "aee62f53-01c7-49ca-98a9-44528cbd2cc0",
   "metadata": {},
   "outputs": [
    {
     "name": "stdout",
     "output_type": "stream",
     "text": [
      "0.7859569648924122\n",
      "Train set self-info: [     22.182      11.391      6.9073]\n",
      "Pruned_set_size: 97\n",
      "0.7859569648924122\n"
     ]
    }
   ],
   "source": [
    "### pruning test\n",
    "clf_knn = fit_dknn_toXy(X_train, y_train)\n",
    "print(clf_knn.score(X_test,y_test))\n",
    "X_train_selected, y_train_selected, selected_training_mask = prune_training_set(X_train, y_train, thresh=0.0001, discount_chance=False)\n",
    "clf_knn.fit(X_train_selected, y_train_selected)\n",
    "print(f\"Pruned_set_size: {len(y_train_selected)}\")\n",
    "print(clf_knn.score(X_test,y_test))\n",
    "### I think the latent space is WAY to fucking big. Used projection instead and ignored chance."
   ]
  },
  {
   "cell_type": "code",
   "execution_count": 20,
   "id": "fe21c6dd-87d0-499a-a451-669835dd73fa",
   "metadata": {},
   "outputs": [],
   "source": [
    "## making yolo lists\n",
    "selected_train_idx = np.arange(len(X_train))\n",
    "yolo_list_writer(ds_train_byol,'./data/hardhat/selected_train.txt',selected_train_idx)"
   ]
  },
  {
   "cell_type": "code",
   "execution_count": null,
   "id": "2fae7f27-401a-40da-bbbb-9baeb7737c00",
   "metadata": {},
   "outputs": [],
   "source": [
    "nn = NearestNeighbors(n_neighbors=1, metric=\"euclidean\").fit(X_train)\n",
    "_, train0_idxs = nn.kneighbors(X_test)\n",
    "train0_idxs = train0_idxs.squeeze()\n",
    "clf_knn.fit(X_train[train0_idxs],y_train[train0_idxs])\n",
    "print(np.sum(prediction_info(y_test, clf_knn.predict_proba(X_test))))\n",
    "print(clf_knn.score(X_test,y_test))\n",
    "sorted_X, sorted_y, info = order_samples_by_info(X_train[train0_idxs],y_train[train0_idxs],clf_knn)\n",
    "clf_knn.fit(X_train[train0_idxs][info>0],y_train[train0_idxs][info>0])\n",
    "print(np.sum(prediction_info(y_test, clf_knn.predict_proba(X_test))))\n",
    "print(clf_knn.score(X_test,y_test))"
   ]
  },
  {
   "cell_type": "code",
   "execution_count": null,
   "id": "e8f1a2ad-870c-4046-9abf-414eb41912f5",
   "metadata": {},
   "outputs": [
    {
     "name": "stdout",
     "output_type": "stream",
     "text": [
      "New https://pypi.org/project/ultralytics/8.3.58 available 😃 Update with 'pip install -U ultralytics'\n",
      "Ultralytics 8.3.35 🚀 Python-3.10.12 torch-2.4.1+cu121 CUDA:0 (NVIDIA GeForce RTX 4060 Laptop GPU, 7832MiB)\n",
      "\u001b[34m\u001b[1mengine/trainer: \u001b[0mtask=detect, mode=train, model=yolo11n.pt, data=data/hardhat/data_pruned.yaml, epochs=100, time=None, patience=100, batch=16, imgsz=640, save=True, save_period=-1, cache=False, device=None, workers=8, project=None, name=train, exist_ok=False, pretrained=True, optimizer=auto, verbose=True, seed=0, deterministic=True, single_cls=False, rect=False, cos_lr=False, close_mosaic=10, resume=False, amp=True, fraction=1.0, profile=False, freeze=None, multi_scale=False, overlap_mask=True, mask_ratio=4, dropout=0.0, val=True, split=val, save_json=False, save_hybrid=False, conf=None, iou=0.7, max_det=300, half=False, dnn=False, plots=True, source=None, vid_stride=1, stream_buffer=False, visualize=False, augment=False, agnostic_nms=False, classes=None, retina_masks=False, embed=None, show=False, save_frames=False, save_txt=False, save_conf=False, save_crop=False, show_labels=True, show_conf=True, show_boxes=True, line_width=None, format=torchscript, keras=False, optimize=False, int8=False, dynamic=False, simplify=True, opset=None, workspace=4, nms=False, lr0=0.01, lrf=0.01, momentum=0.937, weight_decay=0.0005, warmup_epochs=3.0, warmup_momentum=0.8, warmup_bias_lr=0.1, box=7.5, cls=0.5, dfl=1.5, pose=12.0, kobj=1.0, label_smoothing=0.0, nbs=64, hsv_h=0.015, hsv_s=0.7, hsv_v=0.4, degrees=0.0, translate=0.1, scale=0.5, shear=0.0, perspective=0.0, flipud=0.0, fliplr=0.5, bgr=0.0, mosaic=1.0, mixup=0.0, copy_paste=0.0, copy_paste_mode=flip, auto_augment=randaugment, erasing=0.4, crop_fraction=1.0, cfg=None, tracker=botsort.yaml, save_dir=runs/detect/train\n",
      "Overriding model.yaml nc=80 with nc=3\n",
      "\n",
      "                   from  n    params  module                                       arguments                     \n",
      "  0                  -1  1       464  ultralytics.nn.modules.conv.Conv             [3, 16, 3, 2]                 \n",
      "  1                  -1  1      4672  ultralytics.nn.modules.conv.Conv             [16, 32, 3, 2]                \n",
      "  2                  -1  1      6640  ultralytics.nn.modules.block.C3k2            [32, 64, 1, False, 0.25]      \n",
      "  3                  -1  1     36992  ultralytics.nn.modules.conv.Conv             [64, 64, 3, 2]                \n",
      "  4                  -1  1     26080  ultralytics.nn.modules.block.C3k2            [64, 128, 1, False, 0.25]     \n",
      "  5                  -1  1    147712  ultralytics.nn.modules.conv.Conv             [128, 128, 3, 2]              \n",
      "  6                  -1  1     87040  ultralytics.nn.modules.block.C3k2            [128, 128, 1, True]           \n",
      "  7                  -1  1    295424  ultralytics.nn.modules.conv.Conv             [128, 256, 3, 2]              \n",
      "  8                  -1  1    346112  ultralytics.nn.modules.block.C3k2            [256, 256, 1, True]           \n",
      "  9                  -1  1    164608  ultralytics.nn.modules.block.SPPF            [256, 256, 5]                 \n",
      " 10                  -1  1    249728  ultralytics.nn.modules.block.C2PSA           [256, 256, 1]                 \n",
      " 11                  -1  1         0  torch.nn.modules.upsampling.Upsample         [None, 2, 'nearest']          \n",
      " 12             [-1, 6]  1         0  ultralytics.nn.modules.conv.Concat           [1]                           \n",
      " 13                  -1  1    111296  ultralytics.nn.modules.block.C3k2            [384, 128, 1, False]          \n",
      " 14                  -1  1         0  torch.nn.modules.upsampling.Upsample         [None, 2, 'nearest']          \n",
      " 15             [-1, 4]  1         0  ultralytics.nn.modules.conv.Concat           [1]                           \n",
      " 16                  -1  1     32096  ultralytics.nn.modules.block.C3k2            [256, 64, 1, False]           \n",
      " 17                  -1  1     36992  ultralytics.nn.modules.conv.Conv             [64, 64, 3, 2]                \n",
      " 18            [-1, 13]  1         0  ultralytics.nn.modules.conv.Concat           [1]                           \n",
      " 19                  -1  1     86720  ultralytics.nn.modules.block.C3k2            [192, 128, 1, False]          \n",
      " 20                  -1  1    147712  ultralytics.nn.modules.conv.Conv             [128, 128, 3, 2]              \n",
      " 21            [-1, 10]  1         0  ultralytics.nn.modules.conv.Concat           [1]                           \n",
      " 22                  -1  1    378880  ultralytics.nn.modules.block.C3k2            [384, 256, 1, True]           \n",
      " 23        [16, 19, 22]  1    431257  ultralytics.nn.modules.head.Detect           [3, [64, 128, 256]]           \n",
      "YOLO11n summary: 319 layers, 2,590,425 parameters, 2,590,409 gradients, 6.4 GFLOPs\n",
      "\n",
      "Transferred 448/499 items from pretrained weights\n",
      "\u001b[34m\u001b[1mTensorBoard: \u001b[0mStart with 'tensorboard --logdir runs/detect/train', view at http://localhost:6006/\n",
      "Freezing layer 'model.23.dfl.conv.weight'\n",
      "\u001b[34m\u001b[1mAMP: \u001b[0mrunning Automatic Mixed Precision (AMP) checks...\n",
      "\u001b[34m\u001b[1mAMP: \u001b[0mchecks passed ✅\n"
     ]
    },
    {
     "name": "stderr",
     "output_type": "stream",
     "text": [
      "\u001b[34m\u001b[1mtrain: \u001b[0mScanning /home/rakshat/Coding/better-than-vibes/data/hardhat/train/labels.cache... 5269 image\u001b[0m\n"
     ]
    },
    {
     "name": "stdout",
     "output_type": "stream",
     "text": [
      "\u001b[34m\u001b[1malbumentations: \u001b[0mBlur(p=0.01, blur_limit=(3, 7)), MedianBlur(p=0.01, blur_limit=(3, 7)), ToGray(p=0.01, num_output_channels=3, method='weighted_average'), CLAHE(p=0.01, clip_limit=(1, 4.0), tile_grid_size=(8, 8))\n"
     ]
    },
    {
     "name": "stderr",
     "output_type": "stream",
     "text": [
      "/home/rakshat/.virtualenvs/study/lib/python3.10/site-packages/albumentations/__init__.py:13: UserWarning: A new version of Albumentations is available: 1.4.24 (you have 1.4.16). Upgrade using: pip install -U albumentations. To disable automatic update checks, set the environment variable NO_ALBUMENTATIONS_UPDATE to 1.\n",
      "  check_for_updates()\n",
      "\u001b[34m\u001b[1mval: \u001b[0mScanning /home/rakshat/Coding/better-than-vibes/data/hardhat/test/labels.cache... 1766 images, \u001b[0m\n"
     ]
    },
    {
     "name": "stdout",
     "output_type": "stream",
     "text": [
      "Plotting labels to runs/detect/train/labels.jpg... \n",
      "\u001b[34m\u001b[1moptimizer:\u001b[0m 'optimizer=auto' found, ignoring 'lr0=0.01' and 'momentum=0.937' and determining best 'optimizer', 'lr0' and 'momentum' automatically... \n",
      "\u001b[34m\u001b[1moptimizer:\u001b[0m AdamW(lr=0.001429, momentum=0.9) with parameter groups 81 weight(decay=0.0), 88 weight(decay=0.0005), 87 bias(decay=0.0)\n",
      "\u001b[34m\u001b[1mTensorBoard: \u001b[0mmodel graph visualization added ✅\n",
      "Image sizes 640 train, 640 val\n",
      "Using 8 dataloader workers\n",
      "Logging results to \u001b[1mruns/detect/train\u001b[0m\n",
      "Starting training for 100 epochs...\n",
      "\n",
      "      Epoch    GPU_mem   box_loss   cls_loss   dfl_loss  Instances       Size\n"
     ]
    },
    {
     "name": "stderr",
     "output_type": "stream",
     "text": [
      "      1/100      3.23G      1.381      1.631      1.159         61        640: 100%|██████████| 330/\n",
      "                 Class     Images  Instances      Box(P          R      mAP50  mAP50-95): 100%|█████\n"
     ]
    },
    {
     "name": "stdout",
     "output_type": "stream",
     "text": [
      "                   all       1766       6808      0.913      0.555      0.611      0.381\n",
      "\n",
      "      Epoch    GPU_mem   box_loss   cls_loss   dfl_loss  Instances       Size\n"
     ]
    },
    {
     "name": "stderr",
     "output_type": "stream",
     "text": [
      "      2/100      3.19G      1.304      1.014      1.125         47        640: 100%|██████████| 330/\n",
      "                 Class     Images  Instances      Box(P          R      mAP50  mAP50-95): 100%|█████"
     ]
    },
    {
     "name": "stdout",
     "output_type": "stream",
     "text": [
      "                   all       1766       6808      0.956      0.583      0.633      0.399\n"
     ]
    },
    {
     "name": "stderr",
     "output_type": "stream",
     "text": [
      "\n"
     ]
    },
    {
     "name": "stdout",
     "output_type": "stream",
     "text": [
      "\n",
      "      Epoch    GPU_mem   box_loss   cls_loss   dfl_loss  Instances       Size\n"
     ]
    },
    {
     "name": "stderr",
     "output_type": "stream",
     "text": [
      "      3/100      3.25G      1.289      0.889      1.126         27        640: 100%|██████████| 330/\n",
      "                 Class     Images  Instances      Box(P          R      mAP50  mAP50-95): 100%|█████"
     ]
    },
    {
     "name": "stdout",
     "output_type": "stream",
     "text": [
      "                   all       1766       6808      0.952      0.596      0.639       0.41\n"
     ]
    },
    {
     "name": "stderr",
     "output_type": "stream",
     "text": [
      "\n"
     ]
    },
    {
     "name": "stdout",
     "output_type": "stream",
     "text": [
      "\n",
      "      Epoch    GPU_mem   box_loss   cls_loss   dfl_loss  Instances       Size\n"
     ]
    },
    {
     "name": "stderr",
     "output_type": "stream",
     "text": [
      "      4/100      3.23G      1.284     0.8182      1.121         31        640: 100%|██████████| 330/\n",
      "                 Class     Images  Instances      Box(P          R      mAP50  mAP50-95): 100%|█████"
     ]
    },
    {
     "name": "stdout",
     "output_type": "stream",
     "text": [
      "                   all       1766       6808      0.941       0.59      0.631      0.401\n"
     ]
    },
    {
     "name": "stderr",
     "output_type": "stream",
     "text": [
      "\n"
     ]
    },
    {
     "name": "stdout",
     "output_type": "stream",
     "text": [
      "\n",
      "      Epoch    GPU_mem   box_loss   cls_loss   dfl_loss  Instances       Size\n"
     ]
    },
    {
     "name": "stderr",
     "output_type": "stream",
     "text": [
      "      5/100      3.28G      1.261     0.7836      1.114         34        640: 100%|██████████| 330/\n",
      "                 Class     Images  Instances      Box(P          R      mAP50  mAP50-95): 100%|█████"
     ]
    },
    {
     "name": "stdout",
     "output_type": "stream",
     "text": [
      "                   all       1766       6808      0.952      0.597      0.641      0.418\n"
     ]
    },
    {
     "name": "stderr",
     "output_type": "stream",
     "text": [
      "\n"
     ]
    },
    {
     "name": "stdout",
     "output_type": "stream",
     "text": [
      "\n",
      "      Epoch    GPU_mem   box_loss   cls_loss   dfl_loss  Instances       Size\n"
     ]
    },
    {
     "name": "stderr",
     "output_type": "stream",
     "text": [
      "      6/100      3.15G      1.247     0.7602      1.108         56        640: 100%|██████████| 330/\n",
      "                 Class     Images  Instances      Box(P          R      mAP50  mAP50-95): 100%|█████"
     ]
    },
    {
     "name": "stdout",
     "output_type": "stream",
     "text": [
      "                   all       1766       6808      0.951      0.607      0.647      0.422\n"
     ]
    },
    {
     "name": "stderr",
     "output_type": "stream",
     "text": [
      "\n"
     ]
    },
    {
     "name": "stdout",
     "output_type": "stream",
     "text": [
      "\n",
      "      Epoch    GPU_mem   box_loss   cls_loss   dfl_loss  Instances       Size\n"
     ]
    },
    {
     "name": "stderr",
     "output_type": "stream",
     "text": [
      "      7/100      3.19G      1.224     0.7325      1.092         13        640: 100%|██████████| 330/\n",
      "                 Class     Images  Instances      Box(P          R      mAP50  mAP50-95): 100%|█████"
     ]
    },
    {
     "name": "stdout",
     "output_type": "stream",
     "text": [
      "                   all       1766       6808      0.954      0.608      0.649      0.434\n"
     ]
    },
    {
     "name": "stderr",
     "output_type": "stream",
     "text": [
      "\n"
     ]
    },
    {
     "name": "stdout",
     "output_type": "stream",
     "text": [
      "\n",
      "      Epoch    GPU_mem   box_loss   cls_loss   dfl_loss  Instances       Size\n"
     ]
    },
    {
     "name": "stderr",
     "output_type": "stream",
     "text": [
      "      8/100      3.15G      1.226     0.7168      1.097         23        640: 100%|██████████| 330/\n",
      "                 Class     Images  Instances      Box(P          R      mAP50  mAP50-95): 100%|█████"
     ]
    },
    {
     "name": "stdout",
     "output_type": "stream",
     "text": [
      "                   all       1766       6808      0.948      0.602      0.647      0.427\n"
     ]
    },
    {
     "name": "stderr",
     "output_type": "stream",
     "text": [
      "\n"
     ]
    },
    {
     "name": "stdout",
     "output_type": "stream",
     "text": [
      "\n",
      "      Epoch    GPU_mem   box_loss   cls_loss   dfl_loss  Instances       Size\n"
     ]
    },
    {
     "name": "stderr",
     "output_type": "stream",
     "text": [
      "      9/100       3.1G        1.2     0.7108      1.086        129        640:  50%|████▉     | 164/"
     ]
    }
   ],
   "source": [
    "## YOLO model testing\n",
    "model = YOLO(\"yolo11n.pt\")\n",
    "model.train(data=\"data/hardhat/data_pruned.yaml\")\n",
    "model.test()"
   ]
  },
  {
   "cell_type": "code",
   "execution_count": 57,
   "id": "a0fbc655-d6bb-46f6-b477-908b841e209a",
   "metadata": {},
   "outputs": [],
   "source": []
  },
  {
   "cell_type": "code",
   "execution_count": null,
   "id": "fb71f968-6e0b-40ed-9ba0-0bc3ae627df6",
   "metadata": {},
   "outputs": [],
   "source": []
  }
 ],
 "metadata": {
  "kernelspec": {
   "display_name": "Python 3 (ipykernel)",
   "language": "python",
   "name": "python3"
  },
  "language_info": {
   "codemirror_mode": {
    "name": "ipython",
    "version": 3
   },
   "file_extension": ".py",
   "mimetype": "text/x-python",
   "name": "python",
   "nbconvert_exporter": "python",
   "pygments_lexer": "ipython3",
   "version": "3.10.12"
  }
 },
 "nbformat": 4,
 "nbformat_minor": 5
}
