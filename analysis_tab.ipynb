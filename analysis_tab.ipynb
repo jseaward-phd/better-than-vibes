{
 "cells": [
  {
   "cell_type": "code",
   "execution_count": 1,
   "id": "06b4f84c-1266-4ad0-af31-778097103f47",
   "metadata": {},
   "outputs": [],
   "source": [
    "## imports\n",
    "import pickle\n",
    "\n",
    "import numpy as np\n",
    "import pandas as pd\n",
    "import openml\n",
    "from matplotlib import pyplot as plt\n",
    "from sklearn.metrics import accuracy_score\n",
    "from sklearn.model_selection import (\n",
    "\n",
    "    StratifiedKFold,  # use X = np.zeros(n_samples) in .split\n",
    ")\n",
    "from sklearn.model_selection import train_test_split\n",
    "from sklearn.preprocessing import LabelEncoder\n",
    "\n",
    "\n",
    "import data_tab\n",
    "from btv import *\n",
    "\n",
    "# from sklearn.neighbors import KNeighborsClassifier, NearestNeighbors\n",
    "\n",
    "# if you have indeces and want knns from large set, can make an idx array and NearestVectorCaller._call_vec_set; can just train/test split np.arange(len(ds)) to get back indeces for large sets"
   ]
  },
  {
   "cell_type": "code",
   "execution_count": 34,
   "id": "85cda215-dea7-4c90-be0b-3bb849b9707f",
   "metadata": {},
   "outputs": [
    {
     "name": "stdout",
     "output_type": "stream",
     "text": [
      "OpenML Dataset\n",
      "==============\n",
      "Name..........: electricity\n",
      "Version.......: 13\n",
      "Format........: arff\n",
      "Upload Date...: 2022-07-10 10:34:54\n",
      "Licence.......: Public\n",
      "Download URL..: https://api.openml.org/data/v1/download/22103281/electricity.arff\n",
      "OpenML URL....: https://www.openml.org/d/44156\n",
      "# of features.: 9\n",
      "# of instances: 38474\n"
     ]
    }
   ],
   "source": [
    "electric_ds = data_tab.getdata(44156)\n",
    "electric_df, X, y = data_tab.dataset2df(electric_ds, [\"class\"]) \n",
    "# should prolly use some time series model for this..."
   ]
  },
  {
   "cell_type": "code",
   "execution_count": 2,
   "id": "62ab4105-8221-472b-b352-ba89f2dc122f",
   "metadata": {},
   "outputs": [
    {
     "name": "stdout",
     "output_type": "stream",
     "text": [
      "OpenML Dataset\n",
      "==============\n",
      "Name..........: iris\n",
      "Version.......: 1\n",
      "Format........: ARFF\n",
      "Upload Date...: 2014-04-06 23:23:39\n",
      "Licence.......: Public\n",
      "Download URL..: https://api.openml.org/data/v1/download/61/iris.arff\n",
      "OpenML URL....: https://www.openml.org/d/61\n",
      "# of features.: 5\n",
      "# of instances: 150\n"
     ]
    }
   ],
   "source": [
    "iris_ds = data_tab.getdata(61)\n",
    "iris_df, X, y = data_tab.dataset2df(iris_ds,'class')"
   ]
  },
  {
   "cell_type": "code",
   "execution_count": 35,
   "id": "34820869-08c5-4797-b66c-039cc3b7d91d",
   "metadata": {},
   "outputs": [
    {
     "name": "stdout",
     "output_type": "stream",
     "text": [
      "OpenML Dataset\n",
      "==============\n",
      "Name..........: electricity\n",
      "Version.......: 13\n",
      "Format........: arff\n",
      "Upload Date...: 2022-07-10 10:34:54\n",
      "Licence.......: Public\n",
      "Download URL..: https://api.openml.org/data/v1/download/22103281/electricity.arff\n",
      "OpenML URL....: https://www.openml.org/d/44156\n",
      "# of features.: 9\n",
      "# of instances: 38474\n",
      "0.5\n"
     ]
    }
   ],
   "source": [
    "## Data setup\n",
    "electric_ds = openml.datasets.get_dataset(dataset_id=44156)\n",
    "electric_df, *_ = electric_ds.get_data()\n",
    "print(electric_ds)\n",
    "X = electric_df.loc[:, [x != \"class\" for x in electric_df.columns]]\n",
    "y = electric_df.loc[:, \"class\"]\n",
    "le = LabelEncoder()\n",
    "y = le.fit_transform(y)\n",
    "print(sum(y) / len(y))  # fraction of \"UP\" periods"
   ]
  },
  {
   "cell_type": "code",
   "execution_count": 38,
   "id": "565148ac-d036-4de1-93b7-2b7fce79a0de",
   "metadata": {},
   "outputs": [
    {
     "name": "stdout",
     "output_type": "stream",
     "text": [
      "OpenML Dataset\n",
      "==============\n",
      "Name..........: electricity\n",
      "Version.......: 13\n",
      "Format........: arff\n",
      "Upload Date...: 2022-07-10 10:34:54\n",
      "Licence.......: Public\n",
      "Download URL..: https://api.openml.org/data/v1/download/22103281/electricity.arff\n",
      "OpenML URL....: https://www.openml.org/d/44156\n",
      "# of features.: 9\n",
      "# of instances: 38474\n"
     ]
    }
   ],
   "source": [
    "ds = data_tab.getdata(44156)\n",
    "df, X, y = data_tab.dataset2df(ds, class_cols=['class'])"
   ]
  },
  {
   "cell_type": "code",
   "execution_count": 9,
   "id": "c01d3318-1651-4e3d-8d11-4c9268e6251e",
   "metadata": {},
   "outputs": [
    {
     "data": {
      "text/plain": [
       "(array([ 3,  6,  8,  9, 13, 14, 20, 23, 28]),\n",
       " array([ 1,  1,  1,  1, 15,  1,  1,  1,  1]))"
      ]
     },
     "execution_count": 9,
     "metadata": {},
     "output_type": "execute_result"
    }
   ],
   "source": [
    "np.unique(y[test_idx], return_counts=True)\n",
    "# what to do about very imbalaced sets?\n",
    "# re-do label encoder every time? It's not gradient decent so the weights are not improved iteratevly, \n",
    "#    the daata is curated itaratively...\n",
    "# make a copy of the classifyer to do the scoring?\n",
    "# TODO: make single-label info calulator"
   ]
  },
  {
   "cell_type": "code",
   "execution_count": 3,
   "id": "9e30c8c6-d459-4181-8bda-3aa49be1ffcb",
   "metadata": {},
   "outputs": [],
   "source": [
    "clf_knn = fit_dknn_toXy(X,y)"
   ]
  },
  {
   "cell_type": "code",
   "execution_count": 5,
   "id": "cc4eb1f5-ebc6-49f5-972d-f464c99d1adf",
   "metadata": {},
   "outputs": [],
   "source": [
    "## Model setup\n",
    "from sklearn.ensemble import GradientBoostingClassifier\n",
    "\n",
    "## could do a little metaparameter search\n",
    "clf = GradientBoostingClassifier(\n",
    "    n_estimators=100, learning_rate=1.0, max_depth=1, random_state=10\n",
    ")"
   ]
  },
  {
   "cell_type": "code",
   "execution_count": 39,
   "id": "f206ca2e-a651-45b3-9e39-4fd9084fe6f6",
   "metadata": {},
   "outputs": [
    {
     "data": {
      "text/plain": [
       "0.8187134502923976"
      ]
     },
     "execution_count": 39,
     "metadata": {},
     "output_type": "execute_result"
    }
   ],
   "source": [
    "X_train, X_test, y_train, y_test = train_test_split(X,y,test_size=0.2)\n",
    "clf.fit(X_train,y_train)\n",
    "clf.score(X_test,y_test)"
   ]
  },
  {
   "cell_type": "code",
   "execution_count": 37,
   "id": "3ed5e5ed-aacd-4a1f-b2c0-b1198091d312",
   "metadata": {},
   "outputs": [
    {
     "data": {
      "text/plain": [
       "(23, 32)"
      ]
     },
     "execution_count": 37,
     "metadata": {},
     "output_type": "execute_result"
    }
   ],
   "source": [
    "clf.predict_proba(X.iloc[test_idx]).shape"
   ]
  },
  {
   "cell_type": "code",
   "execution_count": null,
   "id": "cd37861f-0139-4607-8803-06498c10d396",
   "metadata": {},
   "outputs": [],
   "source": [
    "## with straigh vectorization of whole images, the knn accuracy goes down as more data is added. Therefore that vecotrization is shit. Maybe we try tabular data?\n",
    "\n",
    "kfold_idx_gen = StratifiedKFold(n_splits=100).split(X, y)\n",
    "train_idx = np.array([], int)\n",
    "running_train, entropies, train_idx = [], [], []\n",
    "for k, (_, test_idx) in enumerate(kfold_idx_gen):\n",
    "    running_train.append(test_idx)\n",
    "running_test = running_train.pop()\n",
    "\n",
    "if len(np.unique(running_test)) < len(np.unique(y)):\n",
    "    print(\"Low class!\")\n",
    "    reresentatives = np.array([])\n",
    "    for y_val in np.unique(y):\n",
    "        reresentatives =  np.append(reresentatives,np.where(y==y_val)[0][0])\n",
    "    running_train[0] = np.unique(np.append(running_train[0], reresentatives)).astype(int)\n",
    "    \n",
    "for k, old_test_idx in enumerate(running_train):\n",
    "    train_idx = np.append(train_idx, old_test_idx).astype(int)\n",
    "    clf.fit(X.iloc[train_idx], y[train_idx])\n",
    "    y_predicted = clf.predict_proba(X.iloc[running_test])\n",
    "    y_true = y[running_test]\n",
    "    H = prediction_entropy(y_true, y_predicted)\n",
    "    entropies.append(H)\n",
    "    print(\n",
    "        f\"Fold : {k+1}, \" f\"Test set entropy : {np.mean(H)}\",\n",
    "        f\"Train samples : {len(train_idx)}\",\n",
    "        f\"Accuracy : {accuracy_score(y_true,clf.predict(X.iloc[test_idx]))}\",\n",
    "    )"
   ]
  },
  {
   "cell_type": "code",
   "execution_count": 6,
   "id": "6dabe00b-17a3-4988-bc6b-7abfe002dc5e",
   "metadata": {},
   "outputs": [
    {
     "name": "stdout",
     "output_type": "stream",
     "text": [
      "Fold : 1, Test set entropy : 0.0 Train samples : 7695 Score : 0.5365219651676632\n",
      "Fold : 2, Test set entropy : 0.0 Train samples : 15390 Score : 0.4902521445282038\n",
      "Fold : 3, Test set entropy : 0.0 Train samples : 23085 Score : 0.49155185859110995\n",
      "Fold : 4, Test set entropy : 0.0 Train samples : 30780 Score : 0.5055887704704964\n"
     ]
    }
   ],
   "source": [
    "## add_best_fold_first_test\n",
    "n_splits = 100\n",
    "verbose = True\n",
    "\n",
    "kfold_idx_gen = StratifiedKFold(n_splits=5).split(X, y)\n",
    "train_idx = np.array([], int)\n",
    "running_train, entropies, train_idx, scores, samples = [], [], [], [], []\n",
    "for k, (_, test_idx) in enumerate(kfold_idx_gen):\n",
    "    running_train.append(test_idx)\n",
    "running_test = running_train.pop()\n",
    "running_train = order_folds_by_entropy(X, y, clf, running_train)\n",
    "\n",
    "for k, old_test_idx in enumerate(running_train):\n",
    "    train_idx = np.append(train_idx, old_test_idx).astype(int)\n",
    "    clf.fit(X.iloc[train_idx], y[train_idx])\n",
    "    y_predicted = clf.predict_proba(X.iloc[running_test])\n",
    "    y_true = y[running_test]\n",
    "    H = prediction_entropy(y_true, y_predicted)\n",
    "    score = clf.score(X.iloc[test_idx], y_true)\n",
    "    entropies.append(H)\n",
    "    scores.append(score)\n",
    "    samples.append(len(train_idx))\n",
    "    if verbose:\n",
    "        print(\n",
    "            f\"Fold : {k+1}, \" f\"Test set entropy : {np.mean(H)}\",\n",
    "            f\"Train samples : {len(train_idx)}\",\n",
    "            f\"Score : {score}\",\n",
    "        )"
   ]
  },
  {
   "cell_type": "code",
   "execution_count": 4,
   "id": "334d5b81-c0c8-4baa-98a0-2b92b35d3474",
   "metadata": {},
   "outputs": [],
   "source": [
    "samples, hs0, ss0 = add_stratified_folds_test(X, y, clf, 100, verbose=False)"
   ]
  },
  {
   "cell_type": "code",
   "execution_count": null,
   "id": "85ebdc12-8fa6-4783-aa14-efe87d2c6eaa",
   "metadata": {},
   "outputs": [],
   "source": [
    "plt.plot(samples, hs0, label=\"Entropy\")\n",
    "ax1 = plt.gca()\n",
    "ax1.set_ylabel(\"Entropy [bits]\")\n",
    "\n",
    "ax2 = ax1.twinx()\n",
    "ax2.plot(samples, ss0, color=\"g\", label=\"Score\")\n",
    "ax2.set_ylabel(\"Accuracy\")"
   ]
  },
  {
   "cell_type": "code",
   "execution_count": 29,
   "id": "6153ab16-c3e4-4d65-9c07-92a1a3004ee2",
   "metadata": {},
   "outputs": [],
   "source": [
    "samples, hs1, ss1 = add_best_fold_first_test(X, y, clf, 100, verbose=False)"
   ]
  },
  {
   "cell_type": "code",
   "execution_count": 30,
   "id": "afeadefa-0a31-4057-992d-c7abedeaec87",
   "metadata": {},
   "outputs": [
    {
     "data": {
      "text/plain": [
       "<matplotlib.legend.Legend at 0x7dcd6ed11210>"
      ]
     },
     "execution_count": 30,
     "metadata": {},
     "output_type": "execute_result"
    },
    {
     "data": {
      "image/png": "[encoded data removed]",
      "text/plain": [
       "<Figure size 640x480 with 2 Axes>"
      ]
     },
     "metadata": {},
     "output_type": "display_data"
    }
   ],
   "source": [
    "plt.plot(samples[2:], hs1[2:], label=\"Entropy\")\n",
    "ax1 = plt.gca()\n",
    "ax1.set_ylabel(\"Entropy [bits]\")\n",
    "\n",
    "ax2 = ax1.twinx()\n",
    "ax2.plot(samples[2:], ss1[2:], color=\"g\", label=\"Score\")\n",
    "ax2.set_ylabel(\"Accuracy\")\n",
    "\n",
    "plt.legend()"
   ]
  },
  {
   "cell_type": "code",
   "execution_count": 35,
   "id": "795eb6b1-80a8-4875-8ccc-ab942b1ea765",
   "metadata": {},
   "outputs": [],
   "source": [
    "# cutting data finer gets to the relavent data faster\n",
    "samples, hs2, ss2 = add_best_fold_first_test(X_train, y_train, clf_nn, 100, verbose=False)"
   ]
  },
  {
   "cell_type": "code",
   "execution_count": 36,
   "id": "88be17a1-590f-469c-8565-ee2b2a2911a4",
   "metadata": {},
   "outputs": [
    {
     "data": {
      "text/plain": [
       "Text(0.5, 1.0, 'With NN classifier')"
      ]
     },
     "execution_count": 36,
     "metadata": {},
     "output_type": "execute_result"
    },
    {
     "data": {
      "image/png": "[encoded data removed]",
      "text/plain": [
       "<Figure size 640x480 with 1 Axes>"
      ]
     },
     "metadata": {},
     "output_type": "display_data"
    }
   ],
   "source": [
    "plt.plot(samples, hs2)\n",
    "plt.plot(samples, ss2)\n",
    "plt.title('With NN classifier')"
   ]
  },
  {
   "cell_type": "code",
   "execution_count": 4,
   "id": "b5e9703b-beb1-4aee-b38a-2080fa087711",
   "metadata": {},
   "outputs": [
    {
     "ename": "NameError",
     "evalue": "name 'clf' is not defined",
     "output_type": "error",
     "traceback": [
      "\u001b[0;31m---------------------------------------------------------------------------\u001b[0m",
      "\u001b[0;31mNameError\u001b[0m                                 Traceback (most recent call last)",
      "Cell \u001b[0;32mIn[4], line 3\u001b[0m\n\u001b[1;32m      1\u001b[0m \u001b[38;5;66;03m## standard train/test split\u001b[39;00m\n\u001b[1;32m      2\u001b[0m X_train, X_test, y_train, y_test \u001b[38;5;241m=\u001b[39m train_test_split(X, y, test_size\u001b[38;5;241m=\u001b[39m\u001b[38;5;241m0.2\u001b[39m)\n\u001b[0;32m----> 3\u001b[0m \u001b[43mclf\u001b[49m\u001b[38;5;241m.\u001b[39mfit(X_train, y_train)\n\u001b[1;32m      4\u001b[0m clf\u001b[38;5;241m.\u001b[39mscore(X_test, y_test)\n",
      "\u001b[0;31mNameError\u001b[0m: name 'clf' is not defined"
     ]
    }
   ],
   "source": [
    "## standard train/test split\n",
    "X_train, X_test, y_train, y_test = train_test_split(X, y, test_size=0.2)\n",
    "clf.fit(X_train, y_train)\n",
    "clf.score(X_test, y_test)"
   ]
  },
  {
   "cell_type": "code",
   "execution_count": null,
   "id": "5f20fc38-e4e7-49dd-bc1c-24ae7e4725da",
   "metadata": {},
   "outputs": [],
   "source": [
    "# Can match/beat standard performance on less data (however it is slower)\n",
    "samples, entropies, scores, best_idxs = train_best_fold_first_test(\n",
    "    X_train, y_train, clf_nn, 190, tol=20\n",
    ")\n",
    "print(np.max(scores))\n",
    "print(clf.score(X_test,y_test))\n",
    "# clf.fit(X_train, y_train)\n",
    "# print(clf.score(X_test,y_test))"
   ]
  },
  {
   "cell_type": "code",
   "execution_count": 44,
   "id": "993f70cd-8eea-423a-9ac2-edf314788bb1",
   "metadata": {},
   "outputs": [
    {
     "data": {
      "text/plain": [
       "<matplotlib.legend.Legend at 0x7baeee5adff0>"
      ]
     },
     "execution_count": 44,
     "metadata": {},
     "output_type": "execute_result"
    },
    {
     "data": {
      "image/png": "[encoded data removed]",
      "text/plain": [
       "<Figure size 640x480 with 1 Axes>"
      ]
     },
     "metadata": {},
     "output_type": "display_data"
    }
   ],
   "source": [
    "# kfold_idx_gen = StratifiedKFold(n_splits=100).split(X, y)\n",
    "# train_idx = np.array([], int)\n",
    "# running_train, entropies, train_idx = [], [], []\n",
    "# for k, (_, test_idx) in enumerate(kfold_idx_gen):\n",
    "#     running_train.append(test_idx)\n",
    "# idx0 = running_train.pop(0)\n",
    "# clf.fit(X.iloc[idx0], y[idx0])\n",
    "sorted_X, sorted_y, info = order_samples_by_info(X_train, y_train,clf)\n",
    "clf.fit(X_train, y_train)\n",
    "print(clf.score(X_test,y_test))\n",
    "sorted_X, sorted_y, info2 = order_samples_by_info(X_train, y_train,clf)\n",
    "plt.plot(sorted(info, reverse=True), label='btv trainset info')\n",
    "plt.plot(sorted(info2, reverse=True), label='fit all data trainset info')\n",
    "plt.legend()"
   ]
  },
  {
   "cell_type": "code",
   "execution_count": null,
   "id": "aa8f99be-7402-4ae4-ba26-651aa0631592",
   "metadata": {},
   "outputs": [],
   "source": [
    "# Back to sufficiency of fine-tuning set..."
   ]
  },
  {
   "cell_type": "code",
   "execution_count": 53,
   "id": "93b9d84b-90e8-4c41-9acf-fcc4e7bb97f2",
   "metadata": {},
   "outputs": [
    {
     "data": {
      "text/plain": [
       "227.70383869678972"
      ]
     },
     "execution_count": 53,
     "metadata": {},
     "output_type": "execute_result"
    }
   ],
   "source": [
    "sum(info2) - sum(info) #diff left in training data"
   ]
  },
  {
   "cell_type": "code",
   "execution_count": 59,
   "id": "f3995b18-bae8-411c-b728-41d82e01e781",
   "metadata": {},
   "outputs": [
    {
     "data": {
      "text/plain": [
       "47"
      ]
     },
     "execution_count": 59,
     "metadata": {},
     "output_type": "execute_result"
    }
   ],
   "source": [
    "1831-1784"
   ]
  },
  {
   "cell_type": "code",
   "execution_count": 14,
   "id": "70c4d8dd-629c-4da4-8929-204168ae866b",
   "metadata": {},
   "outputs": [
    {
     "name": "stdout",
     "output_type": "stream",
     "text": [
      "minimal fit train info:  15408.599221244542 bits\n",
      "minimal fit test info:  3891.8986828039847 bits\n"
     ]
    }
   ],
   "source": [
    "tiny_x = np.vstack([X[:6],X[-6:]])\n",
    "tiny_y = np.append(y[:6],y[-6:])\n",
    "clf.fit(tiny_x,tiny_y)\n",
    "print('minimal fit train info: ', np.sum(prediction_info(y_train,clf.predict_proba(X_train))), 'bits') \n",
    "print('minimal fit test info: ', np.sum(prediction_info(y_test,clf.predict_proba(X_test))), 'bits') \n",
    "# print('classifyer size: ', sys.getsizeof(clf) * 8, 'bits')"
   ]
  },
  {
   "cell_type": "code",
   "execution_count": 17,
   "id": "e3bed3b1-0d64-4200-acd2-15f69d40b19c",
   "metadata": {},
   "outputs": [
    {
     "name": "stderr",
     "output_type": "stream",
     "text": [
      " 43%|███████████████████████████▎                                   | 43/99 [00:13<00:17,  3.13it/s]"
     ]
    },
    {
     "name": "stdout",
     "output_type": "stream",
     "text": [
      "No improvement found after adding 20 folds (6156 samples). Fitting on 23 folds, 7387 smaples.\n",
      "0.49421702404158546\n",
      "Best first test H:  0.505769809331252\n",
      "Best first test info:  3891.8986828039847\n",
      "Best first train H:  0.5019498191234031\n",
      "Best first train info:  3707.903313864578\n"
     ]
    },
    {
     "name": "stderr",
     "output_type": "stream",
     "text": [
      "\n"
     ]
    }
   ],
   "source": [
    "samples, entropies, scores, best_idxs = train_best_fold_first_test(\n",
    "    X_train, y_train, clf_nn, 100, tol=20\n",
    ")\n",
    "print(clf.score(X_test,y_test))\n",
    "print('Best first test H: ', prediction_entropy(y_test,clf.predict_proba(X_test)))\n",
    "print('Best first test info: ', np.sum(prediction_info(y_test,clf.predict_proba(X_test)))) #btv fit test info\n",
    "print('Best first train H: ', prediction_entropy(y_train[best_idxs],clf.predict_proba(X_train[best_idxs]))) #btv fit train info\n",
    "print('Best first train info: ', np.sum(prediction_info(y_train[best_idxs],clf.predict_proba(X_train[best_idxs])))) "
   ]
  },
  {
   "cell_type": "code",
   "execution_count": 30,
   "id": "a658d978-e5b3-4cae-b07b-62e04ef211bf",
   "metadata": {},
   "outputs": [
    {
     "name": "stdout",
     "output_type": "stream",
     "text": [
      "0.816114359974009\n",
      "Fit all test H:  0.05761300914918303\n",
      "Fit all test info:  443.3321054029634\n",
      "Fit all train H:  0.05702021947355081\n",
      "Fit all train info:  1755.0253351764202\n"
     ]
    }
   ],
   "source": [
    "clf.fit(X_train, y_train)\n",
    "print(clf.score(X_test,y_test))\n",
    "print('Fit all test H: ', prediction_entropy(y_test,clf.predict_proba(X_test))) #fit all test info\n",
    "print('Fit all test info: ', np.sum(prediction_info(y_test,clf.predict_proba(X_test)))) \n",
    "print('Fit all train H: ', prediction_entropy(y_train,clf.predict_proba(X_train))) #fit all test info\n",
    "print('Fit all train info: ', np.sum(prediction_info(y_train,clf.predict_proba(X_train)))) #fit all test info"
   ]
  },
  {
   "cell_type": "code",
   "execution_count": 153,
   "id": "92a23581-ad92-423a-87de-ef522a45c647",
   "metadata": {},
   "outputs": [
    {
     "data": {
      "text/plain": [
       "0.22017847997549345"
      ]
     },
     "execution_count": 153,
     "metadata": {},
     "output_type": "execute_result"
    }
   ],
   "source": [
    "np.sum(prediction_info(y_train,clf.predict_proba(X_train)))/len(y_train)"
   ]
  },
  {
   "cell_type": "code",
   "execution_count": 165,
   "id": "c0d31b88-04df-4939-91ff-1d1c5d475bc2",
   "metadata": {},
   "outputs": [
    {
     "data": {
      "text/plain": [
       "13553.746870331426"
      ]
     },
     "execution_count": 165,
     "metadata": {},
     "output_type": "execute_result"
    }
   ],
   "source": [
    "6776.873435165713 * 2"
   ]
  },
  {
   "cell_type": "code",
   "execution_count": null,
   "id": "72db2f19-ef64-4cc4-bff2-bc3708da0ba2",
   "metadata": {},
   "outputs": [],
   "source": [
    "# can use a classifyer to tell which \n",
    "\n",
    "(X_train,y_train,X_test,y_test,best_idxs) = pickle.load(open('show relative info goes as performance.pkl','rb'))\n",
    "tiny_x = pd.concat([X.iloc[:6],X.iloc[-6:]])\n",
    "tiny_y = np.append(y[:6],y[-6:])\n",
    "clf_nn.fit(tiny_x,tiny_y)\n",
    "clf.fit(tiny_x,tiny_y)\n",
    "\n",
    "#actually sucks that info is model-dependant, but the knn selects a set that is MORE informative than the total FORE THE RF\n",
    "print(cal_info_about(X_train,y_train, X_test, y_test, clf_nn) - cal_info_about(X_train.iloc[best_idxs],y_train[best_idxs], X_test, y_test, clf_nn))\n",
    "print(cal_info_about(X_train,y_train, X_test, y_test, clf) - cal_info_about(X_train.iloc[best_idxs],y_train[best_idxs], X_test, y_test, clf))\n"
   ]
  },
  {
   "cell_type": "code",
   "execution_count": null,
   "id": "a1d970c4-506a-426d-bd35-282832eb019a",
   "metadata": {},
   "outputs": [],
   "source": [
    "tiny_x = np.vstack([X[:6],X[-6:]])\n",
    "tiny_y = np.append(y[:6],y[-6:])\n",
    "clf.fit(tiny_x,tiny_y)\n",
    "print('minimal fit train info: ', np.sum(prediction_info(y_train,clf.predict_proba(X_train))), 'bits') # many bits in total train set\n",
    "print('minimal fit test info: ', np.sum(prediction_info(y_test,clf.predict_proba(X_test))), 'bits')  # 3558 bits of ignorance in test set before training\n",
    "print('Best first train info: ', np.sum(prediction_info(y_train[best_idxs],clf.predict_proba(X_train[best_idxs]))), 'bits') # 2024 bits in selected training set\n",
    "clf.fit(X_train[best_idxs], y_train[best_idxs])\n",
    "print('Best fit test info: ', np.sum(prediction_info(y_test,clf.predict_proba(X_test)))), 'bits')  # bits of ignorance in test set after training\n",
    "# print('classifyer size: ', sys.getsizeof(clf) * 8, 'bits')"
   ]
  },
  {
   "cell_type": "code",
   "execution_count": 203,
   "id": "76e11a99-a54f-4bf9-a5c6-d0d7c248d856",
   "metadata": {},
   "outputs": [
    {
     "name": "stdout",
     "output_type": "stream",
     "text": [
      "0.17912185937997097\n",
      "1.0\n"
     ]
    },
    {
     "ename": "TypeError",
     "evalue": "only integer scalar arrays can be converted to a scalar index",
     "output_type": "error",
     "traceback": [
      "\u001b[0;31m---------------------------------------------------------------------------\u001b[0m",
      "\u001b[0;31mTypeError\u001b[0m                                 Traceback (most recent call last)",
      "Cell \u001b[0;32mIn[203], line 11\u001b[0m\n\u001b[1;32m      9\u001b[0m sorted_X, sorted_y, info \u001b[38;5;241m=\u001b[39m order_samples_by_info(X_train,y_train,clf_knn, sort_info\u001b[38;5;241m=\u001b[39m\u001b[38;5;28;01mTrue\u001b[39;00m)\n\u001b[1;32m     10\u001b[0m max_idx \u001b[38;5;241m=\u001b[39m np\u001b[38;5;241m.\u001b[39mwhere(np\u001b[38;5;241m.\u001b[39mcumsum(info) \u001b[38;5;241m<\u001b[39m full_train_test_info)[\u001b[38;5;241m0\u001b[39m]\n\u001b[0;32m---> 11\u001b[0m clf_knn\u001b[38;5;241m.\u001b[39mfit(\u001b[43msorted_X\u001b[49m\u001b[43m[\u001b[49m\u001b[43m:\u001b[49m\u001b[43mmax_idx\u001b[49m\u001b[43m,\u001b[49m\u001b[43m:\u001b[49m\u001b[43m]\u001b[49m,sorted_y[:max_idx])\n\u001b[1;32m     12\u001b[0m \u001b[38;5;28mprint\u001b[39m(max_idx)\n\u001b[1;32m     13\u001b[0m \u001b[38;5;28mprint\u001b[39m(np\u001b[38;5;241m.\u001b[39msum(prediction_info(y_test, clf_knn\u001b[38;5;241m.\u001b[39mpredict_proba(X_test))))\n",
      "\u001b[0;31mTypeError\u001b[0m: only integer scalar arrays can be converted to a scalar index"
     ]
    }
   ],
   "source": [
    "## Lets try using the test set to pick the training set\n",
    "# X_train, X_test, y_train, y_test = train_test_split(X,y,test_size=0.2)\n",
    "\n",
    "clf_knn = fit_dknn_toXy(X_train, y_train)\n",
    "full_train_test_info = np.sum(prediction_info(y_test, clf_knn.predict_proba(X_test)))\n",
    "print(full_train_test_info)\n",
    "print(clf_knn.score(X_test,y_test))\n",
    "clf_knn.fit(X_test,y_test)\n",
    "sorted_X, sorted_y, info = order_samples_by_info(X_train,y_train,clf_knn, sort_info=True)\n",
    "max_idx = np.where(np.cumsum(info) < full_train_test_info)[0]\n",
    "clf_knn.fit(sorted_X[:max_idx,:],sorted_y[:max_idx])\n",
    "print(max_idx)\n",
    "print(np.sum(prediction_info(y_test, clf_knn.predict_proba(X_test))))\n",
    "print(clf_knn.score(X_test,y_test))"
   ]
  },
  {
   "cell_type": "code",
   "execution_count": 204,
   "id": "fe695eee-1e51-4ae6-b7ca-6662cb101916",
   "metadata": {},
   "outputs": [
    {
     "name": "stdout",
     "output_type": "stream",
     "text": [
      "1.3018266873886875\n",
      "0.9333333333333333\n",
      "1.9999999404173145\n",
      "0.9666666666666667\n"
     ]
    }
   ],
   "source": [
    "nn = NearestNeighbors(n_neighbors=1, metric=\"euclidean\").fit(X_train)\n",
    "_, train0_idxs = nn.kneighbors(X_test)\n",
    "train0_idxs = train0_idxs.squeeze()\n",
    "clf_knn.fit(X_train[train0_idxs], y_train[train0_idxs])\n",
    "print(np.sum(prediction_info(y_test, clf_knn.predict_proba(X_test))))\n",
    "print(clf_knn.score(X_test,y_test))\n",
    "clf.fit(X_train[train0_idxs], y_train[train0_idxs])\n",
    "print(np.sum(prediction_info(y_test, clf.predict_proba(X_test))))\n",
    "print(clf.score(X_test,y_test))"
   ]
  },
  {
   "cell_type": "code",
   "execution_count": 54,
   "id": "773ba442-8e7c-472c-ab30-d2d9b91c8682",
   "metadata": {},
   "outputs": [
    {
     "name": "stdout",
     "output_type": "stream",
     "text": [
      "full train set size:  30779\n",
      "min_train_test_info_residual:  286.60309409113677\n",
      "full_train_test_info:  -196.58588697641494\n",
      "full_train_test_info_residual:  483.1889810675517\n",
      "full train score:  0.8105263157894737\n",
      "Train set self-info: 1819.607858949349\n",
      "Self-pruned train set size:  4595\n",
      "self_pruned_train_test_info:  -284.4816710310994\n",
      "self_pruned_train_test_info_residual:  571.0847651222361\n",
      "self_pruned_score:  0.7738791423001949\n",
      "random pruning baseline: 0.7562053281351527\n"
     ]
    }
   ],
   "source": [
    "## using only the train set and the total info in test set, we down-select the training set\n",
    "# X_train, X_test, y_train, y_test = train_test_split(X,y,test_size=0.2) #, random_state=22)\n",
    "info_thresh = 0.1\n",
    "\n",
    "tiny_x = np.vstack([X_train[:6],X_train[-6:]])\n",
    "tiny_y = np.append(y_train[:6],y_train[-6:])\n",
    "clf_knn = fit_dknn_toXy(tiny_x, tiny_y)\n",
    "min_train_test_info_residual = np.sum(prediction_info(y_test, clf_knn.predict_proba(X_test)))\n",
    "full_train_test_info = cal_info_about_test_set_in_train_set(X_train,y_train, X_test, y_test, clf_knn)\n",
    "clf_knn.fit(X_train, y_train)\n",
    "full_train_test_info_residual = np.sum(prediction_info(y_test, clf_knn.predict_proba(X_test)))\n",
    "print(\"full train set size: \", y_train.size)\n",
    "print(\"min_train_test_info_residual: \", min_train_test_info_residual)\n",
    "print(\"full_train_test_info: \", full_train_test_info)\n",
    "print(\"full_train_test_info_residual: \",full_train_test_info_residual)\n",
    "print(\"full train score: \", clf_knn.score(X_test,y_test))\n",
    "\n",
    "clf_knn_selfdrop = KNeighborsClassifier(n_neighbors=100, metric='euclidean', weights=dist_weight_ignore_self)\n",
    "clf_knn_selfdrop.fit(X_train, y_train)\n",
    "train_self_info = np.sum(prediction_info(y_test, clf_knn_selfdrop.predict_proba(X_train)))\n",
    "print(\"Train set self-info:\", train_self_info)\n",
    "\n",
    "sorted_X, sorted_y, info = order_samples_by_info(X_train,y_train,clf_knn_selfdrop, sort_info=False)\n",
    "tiny_x = np.vstack([X_train[:6],X_train[-6:]])\n",
    "tiny_y = np.append(y_train[:6],y_train[-6:])\n",
    "clf_knn.fit(tiny_x, tiny_y)\n",
    "self_pruned_train_test_info =  cal_info_about_test_set_in_train_set(X_train[info>info_thresh],y_train[info>info_thresh], X_test, y_test, clf_knn)\n",
    "print(\"Self-pruned train set size: \", y_train[info>info_thresh].size)\n",
    "print(\"self_pruned_train_test_info: \", self_pruned_train_test_info)\n",
    "clf_knn.fit(X_train[info>info_thresh,:],y_train[info>info_thresh])\n",
    "self_pruned_train_test_info_residual = np.sum(prediction_info(y_test, clf_knn.predict_proba(X_test)))\n",
    "print(\"self_pruned_train_test_info_residual: \", self_pruned_train_test_info_residual)\n",
    "print(\"self_pruned_score: \", clf_knn.score(X_test,y_test))\n",
    "rand_idx = np.random.choice(np.arange(len(X_train)),y_train[info>info_thresh].size)\n",
    "clf_knn.fit(X_train[rand_idx,:],y_train[rand_idx])\n",
    "print(\"random pruning baseline:\", clf_knn.score(X_test,y_test))"
   ]
  },
  {
   "cell_type": "code",
   "execution_count": 55,
   "id": "4e975174-219e-412b-94d2-cb2dad8c5a09",
   "metadata": {},
   "outputs": [
    {
     "name": "stdout",
     "output_type": "stream",
     "text": [
      "0.8187134502923976\n",
      "0.8103963612735543\n",
      "0.8064977257959715\n"
     ]
    }
   ],
   "source": [
    "#still works for another kind of classifier doing the final fit\n",
    "clf.fit(X_train, y_train)\n",
    "print(clf.score(X_test,y_test))\n",
    "clf.fit(X_train[info>0,:],y_train[info>0])\n",
    "print(clf.score(X_test,y_test))\n",
    "clf.fit(X_train[rand_idx,:],y_train[rand_idx])\n",
    "print(clf.score(X_test,y_test))"
   ]
  },
  {
   "cell_type": "code",
   "execution_count": 196,
   "id": "fb3e3b80-c2bc-4756-9b6d-238b659bedb2",
   "metadata": {},
   "outputs": [
    {
     "data": {
      "text/plain": [
       "1.4526641969093668"
      ]
     },
     "execution_count": 196,
     "metadata": {},
     "output_type": "execute_result"
    }
   ],
   "source": [
    "clf.fit(X_train, y_train)\n",
    "np.sum(prediction_info(y_test, clf.predict_proba(X_test)))"
   ]
  },
  {
   "cell_type": "code",
   "execution_count": 198,
   "id": "61cb971a-cc67-445e-8a49-a8e42e6e9f55",
   "metadata": {},
   "outputs": [
    {
     "name": "stdout",
     "output_type": "stream",
     "text": [
      "1.3018266873886875\n",
      "0.9333333333333333\n"
     ]
    },
    {
     "ename": "ValueError",
     "evalue": "Found array with 0 sample(s) (shape=(0, 4)) while a minimum of 1 is required by KNeighborsClassifier.",
     "output_type": "error",
     "traceback": [
      "\u001b[0;31m---------------------------------------------------------------------------\u001b[0m",
      "\u001b[0;31mValueError\u001b[0m                                Traceback (most recent call last)",
      "Cell \u001b[0;32mIn[198], line 8\u001b[0m\n\u001b[1;32m      6\u001b[0m \u001b[38;5;28mprint\u001b[39m(clf_knn\u001b[38;5;241m.\u001b[39mscore(X_test,y_test))\n\u001b[1;32m      7\u001b[0m sorted_X, sorted_y, info \u001b[38;5;241m=\u001b[39m order_samples_by_info(X_train[train0_idxs],y_train[train0_idxs],clf_knn)\n\u001b[0;32m----> 8\u001b[0m \u001b[43mclf_knn\u001b[49m\u001b[38;5;241;43m.\u001b[39;49m\u001b[43mfit\u001b[49m\u001b[43m(\u001b[49m\u001b[43mX_train\u001b[49m\u001b[43m[\u001b[49m\u001b[43mtrain0_idxs\u001b[49m\u001b[43m]\u001b[49m\u001b[43m[\u001b[49m\u001b[43minfo\u001b[49m\u001b[38;5;241;43m>\u001b[39;49m\u001b[38;5;241;43m0\u001b[39;49m\u001b[43m]\u001b[49m\u001b[43m,\u001b[49m\u001b[43my_train\u001b[49m\u001b[43m[\u001b[49m\u001b[43mtrain0_idxs\u001b[49m\u001b[43m]\u001b[49m\u001b[43m[\u001b[49m\u001b[43minfo\u001b[49m\u001b[38;5;241;43m>\u001b[39;49m\u001b[38;5;241;43m0\u001b[39;49m\u001b[43m]\u001b[49m\u001b[43m)\u001b[49m\n\u001b[1;32m      9\u001b[0m \u001b[38;5;28mprint\u001b[39m(np\u001b[38;5;241m.\u001b[39msum(prediction_info(y_test, clf_knn\u001b[38;5;241m.\u001b[39mpredict_proba(X_test))))\n\u001b[1;32m     10\u001b[0m \u001b[38;5;28mprint\u001b[39m(clf_knn\u001b[38;5;241m.\u001b[39mscore(X_test,y_test))\n",
      "File \u001b[0;32m~/.virtualenvs/study/lib/python3.10/site-packages/sklearn/neighbors/_classification.py:215\u001b[0m, in \u001b[0;36mKNeighborsClassifier.fit\u001b[0;34m(self, X, y)\u001b[0m\n\u001b[1;32m    196\u001b[0m \u001b[38;5;250m\u001b[39m\u001b[38;5;124;03m\"\"\"Fit the k-nearest neighbors classifier from the training dataset.\u001b[39;00m\n\u001b[1;32m    197\u001b[0m \n\u001b[1;32m    198\u001b[0m \u001b[38;5;124;03mParameters\u001b[39;00m\n\u001b[0;32m   (...)\u001b[0m\n\u001b[1;32m    211\u001b[0m \u001b[38;5;124;03m    The fitted k-nearest neighbors classifier.\u001b[39;00m\n\u001b[1;32m    212\u001b[0m \u001b[38;5;124;03m\"\"\"\u001b[39;00m\n\u001b[1;32m    213\u001b[0m \u001b[38;5;28mself\u001b[39m\u001b[38;5;241m.\u001b[39m_validate_params()\n\u001b[0;32m--> 215\u001b[0m \u001b[38;5;28;01mreturn\u001b[39;00m \u001b[38;5;28;43mself\u001b[39;49m\u001b[38;5;241;43m.\u001b[39;49m\u001b[43m_fit\u001b[49m\u001b[43m(\u001b[49m\u001b[43mX\u001b[49m\u001b[43m,\u001b[49m\u001b[43m \u001b[49m\u001b[43my\u001b[49m\u001b[43m)\u001b[49m\n",
      "File \u001b[0;32m~/.virtualenvs/study/lib/python3.10/site-packages/sklearn/neighbors/_base.py:454\u001b[0m, in \u001b[0;36mNeighborsBase._fit\u001b[0;34m(self, X, y)\u001b[0m\n\u001b[1;32m    452\u001b[0m \u001b[38;5;28;01mif\u001b[39;00m \u001b[38;5;28mself\u001b[39m\u001b[38;5;241m.\u001b[39m_get_tags()[\u001b[38;5;124m\"\u001b[39m\u001b[38;5;124mrequires_y\u001b[39m\u001b[38;5;124m\"\u001b[39m]:\n\u001b[1;32m    453\u001b[0m     \u001b[38;5;28;01mif\u001b[39;00m \u001b[38;5;129;01mnot\u001b[39;00m \u001b[38;5;28misinstance\u001b[39m(X, (KDTree, BallTree, NeighborsBase)):\n\u001b[0;32m--> 454\u001b[0m         X, y \u001b[38;5;241m=\u001b[39m \u001b[38;5;28;43mself\u001b[39;49m\u001b[38;5;241;43m.\u001b[39;49m\u001b[43m_validate_data\u001b[49m\u001b[43m(\u001b[49m\n\u001b[1;32m    455\u001b[0m \u001b[43m            \u001b[49m\u001b[43mX\u001b[49m\u001b[43m,\u001b[49m\u001b[43m \u001b[49m\u001b[43my\u001b[49m\u001b[43m,\u001b[49m\u001b[43m \u001b[49m\u001b[43maccept_sparse\u001b[49m\u001b[38;5;241;43m=\u001b[39;49m\u001b[38;5;124;43m\"\u001b[39;49m\u001b[38;5;124;43mcsr\u001b[39;49m\u001b[38;5;124;43m\"\u001b[39;49m\u001b[43m,\u001b[49m\u001b[43m \u001b[49m\u001b[43mmulti_output\u001b[49m\u001b[38;5;241;43m=\u001b[39;49m\u001b[38;5;28;43;01mTrue\u001b[39;49;00m\u001b[43m,\u001b[49m\u001b[43m \u001b[49m\u001b[43morder\u001b[49m\u001b[38;5;241;43m=\u001b[39;49m\u001b[38;5;124;43m\"\u001b[39;49m\u001b[38;5;124;43mC\u001b[39;49m\u001b[38;5;124;43m\"\u001b[39;49m\n\u001b[1;32m    456\u001b[0m \u001b[43m        \u001b[49m\u001b[43m)\u001b[49m\n\u001b[1;32m    458\u001b[0m     \u001b[38;5;28;01mif\u001b[39;00m is_classifier(\u001b[38;5;28mself\u001b[39m):\n\u001b[1;32m    459\u001b[0m         \u001b[38;5;66;03m# Classification targets require a specific format\u001b[39;00m\n\u001b[1;32m    460\u001b[0m         \u001b[38;5;28;01mif\u001b[39;00m y\u001b[38;5;241m.\u001b[39mndim \u001b[38;5;241m==\u001b[39m \u001b[38;5;241m1\u001b[39m \u001b[38;5;129;01mor\u001b[39;00m y\u001b[38;5;241m.\u001b[39mndim \u001b[38;5;241m==\u001b[39m \u001b[38;5;241m2\u001b[39m \u001b[38;5;129;01mand\u001b[39;00m y\u001b[38;5;241m.\u001b[39mshape[\u001b[38;5;241m1\u001b[39m] \u001b[38;5;241m==\u001b[39m \u001b[38;5;241m1\u001b[39m:\n",
      "File \u001b[0;32m~/.virtualenvs/study/lib/python3.10/site-packages/sklearn/base.py:584\u001b[0m, in \u001b[0;36mBaseEstimator._validate_data\u001b[0;34m(self, X, y, reset, validate_separately, **check_params)\u001b[0m\n\u001b[1;32m    582\u001b[0m         y \u001b[38;5;241m=\u001b[39m check_array(y, input_name\u001b[38;5;241m=\u001b[39m\u001b[38;5;124m\"\u001b[39m\u001b[38;5;124my\u001b[39m\u001b[38;5;124m\"\u001b[39m, \u001b[38;5;241m*\u001b[39m\u001b[38;5;241m*\u001b[39mcheck_y_params)\n\u001b[1;32m    583\u001b[0m     \u001b[38;5;28;01melse\u001b[39;00m:\n\u001b[0;32m--> 584\u001b[0m         X, y \u001b[38;5;241m=\u001b[39m \u001b[43mcheck_X_y\u001b[49m\u001b[43m(\u001b[49m\u001b[43mX\u001b[49m\u001b[43m,\u001b[49m\u001b[43m \u001b[49m\u001b[43my\u001b[49m\u001b[43m,\u001b[49m\u001b[43m \u001b[49m\u001b[38;5;241;43m*\u001b[39;49m\u001b[38;5;241;43m*\u001b[39;49m\u001b[43mcheck_params\u001b[49m\u001b[43m)\u001b[49m\n\u001b[1;32m    585\u001b[0m     out \u001b[38;5;241m=\u001b[39m X, y\n\u001b[1;32m    587\u001b[0m \u001b[38;5;28;01mif\u001b[39;00m \u001b[38;5;129;01mnot\u001b[39;00m no_val_X \u001b[38;5;129;01mand\u001b[39;00m check_params\u001b[38;5;241m.\u001b[39mget(\u001b[38;5;124m\"\u001b[39m\u001b[38;5;124mensure_2d\u001b[39m\u001b[38;5;124m\"\u001b[39m, \u001b[38;5;28;01mTrue\u001b[39;00m):\n",
      "File \u001b[0;32m~/.virtualenvs/study/lib/python3.10/site-packages/sklearn/utils/validation.py:1106\u001b[0m, in \u001b[0;36mcheck_X_y\u001b[0;34m(X, y, accept_sparse, accept_large_sparse, dtype, order, copy, force_all_finite, ensure_2d, allow_nd, multi_output, ensure_min_samples, ensure_min_features, y_numeric, estimator)\u001b[0m\n\u001b[1;32m   1101\u001b[0m         estimator_name \u001b[38;5;241m=\u001b[39m _check_estimator_name(estimator)\n\u001b[1;32m   1102\u001b[0m     \u001b[38;5;28;01mraise\u001b[39;00m \u001b[38;5;167;01mValueError\u001b[39;00m(\n\u001b[1;32m   1103\u001b[0m         \u001b[38;5;124mf\u001b[39m\u001b[38;5;124m\"\u001b[39m\u001b[38;5;132;01m{\u001b[39;00mestimator_name\u001b[38;5;132;01m}\u001b[39;00m\u001b[38;5;124m requires y to be passed, but the target y is None\u001b[39m\u001b[38;5;124m\"\u001b[39m\n\u001b[1;32m   1104\u001b[0m     )\n\u001b[0;32m-> 1106\u001b[0m X \u001b[38;5;241m=\u001b[39m \u001b[43mcheck_array\u001b[49m\u001b[43m(\u001b[49m\n\u001b[1;32m   1107\u001b[0m \u001b[43m    \u001b[49m\u001b[43mX\u001b[49m\u001b[43m,\u001b[49m\n\u001b[1;32m   1108\u001b[0m \u001b[43m    \u001b[49m\u001b[43maccept_sparse\u001b[49m\u001b[38;5;241;43m=\u001b[39;49m\u001b[43maccept_sparse\u001b[49m\u001b[43m,\u001b[49m\n\u001b[1;32m   1109\u001b[0m \u001b[43m    \u001b[49m\u001b[43maccept_large_sparse\u001b[49m\u001b[38;5;241;43m=\u001b[39;49m\u001b[43maccept_large_sparse\u001b[49m\u001b[43m,\u001b[49m\n\u001b[1;32m   1110\u001b[0m \u001b[43m    \u001b[49m\u001b[43mdtype\u001b[49m\u001b[38;5;241;43m=\u001b[39;49m\u001b[43mdtype\u001b[49m\u001b[43m,\u001b[49m\n\u001b[1;32m   1111\u001b[0m \u001b[43m    \u001b[49m\u001b[43morder\u001b[49m\u001b[38;5;241;43m=\u001b[39;49m\u001b[43morder\u001b[49m\u001b[43m,\u001b[49m\n\u001b[1;32m   1112\u001b[0m \u001b[43m    \u001b[49m\u001b[43mcopy\u001b[49m\u001b[38;5;241;43m=\u001b[39;49m\u001b[43mcopy\u001b[49m\u001b[43m,\u001b[49m\n\u001b[1;32m   1113\u001b[0m \u001b[43m    \u001b[49m\u001b[43mforce_all_finite\u001b[49m\u001b[38;5;241;43m=\u001b[39;49m\u001b[43mforce_all_finite\u001b[49m\u001b[43m,\u001b[49m\n\u001b[1;32m   1114\u001b[0m \u001b[43m    \u001b[49m\u001b[43mensure_2d\u001b[49m\u001b[38;5;241;43m=\u001b[39;49m\u001b[43mensure_2d\u001b[49m\u001b[43m,\u001b[49m\n\u001b[1;32m   1115\u001b[0m \u001b[43m    \u001b[49m\u001b[43mallow_nd\u001b[49m\u001b[38;5;241;43m=\u001b[39;49m\u001b[43mallow_nd\u001b[49m\u001b[43m,\u001b[49m\n\u001b[1;32m   1116\u001b[0m \u001b[43m    \u001b[49m\u001b[43mensure_min_samples\u001b[49m\u001b[38;5;241;43m=\u001b[39;49m\u001b[43mensure_min_samples\u001b[49m\u001b[43m,\u001b[49m\n\u001b[1;32m   1117\u001b[0m \u001b[43m    \u001b[49m\u001b[43mensure_min_features\u001b[49m\u001b[38;5;241;43m=\u001b[39;49m\u001b[43mensure_min_features\u001b[49m\u001b[43m,\u001b[49m\n\u001b[1;32m   1118\u001b[0m \u001b[43m    \u001b[49m\u001b[43mestimator\u001b[49m\u001b[38;5;241;43m=\u001b[39;49m\u001b[43mestimator\u001b[49m\u001b[43m,\u001b[49m\n\u001b[1;32m   1119\u001b[0m \u001b[43m    \u001b[49m\u001b[43minput_name\u001b[49m\u001b[38;5;241;43m=\u001b[39;49m\u001b[38;5;124;43m\"\u001b[39;49m\u001b[38;5;124;43mX\u001b[39;49m\u001b[38;5;124;43m\"\u001b[39;49m\u001b[43m,\u001b[49m\n\u001b[1;32m   1120\u001b[0m \u001b[43m\u001b[49m\u001b[43m)\u001b[49m\n\u001b[1;32m   1122\u001b[0m y \u001b[38;5;241m=\u001b[39m _check_y(y, multi_output\u001b[38;5;241m=\u001b[39mmulti_output, y_numeric\u001b[38;5;241m=\u001b[39my_numeric, estimator\u001b[38;5;241m=\u001b[39mestimator)\n\u001b[1;32m   1124\u001b[0m check_consistent_length(X, y)\n",
      "File \u001b[0;32m~/.virtualenvs/study/lib/python3.10/site-packages/sklearn/utils/validation.py:931\u001b[0m, in \u001b[0;36mcheck_array\u001b[0;34m(array, accept_sparse, accept_large_sparse, dtype, order, copy, force_all_finite, ensure_2d, allow_nd, ensure_min_samples, ensure_min_features, estimator, input_name)\u001b[0m\n\u001b[1;32m    929\u001b[0m     n_samples \u001b[38;5;241m=\u001b[39m _num_samples(array)\n\u001b[1;32m    930\u001b[0m     \u001b[38;5;28;01mif\u001b[39;00m n_samples \u001b[38;5;241m<\u001b[39m ensure_min_samples:\n\u001b[0;32m--> 931\u001b[0m         \u001b[38;5;28;01mraise\u001b[39;00m \u001b[38;5;167;01mValueError\u001b[39;00m(\n\u001b[1;32m    932\u001b[0m             \u001b[38;5;124m\"\u001b[39m\u001b[38;5;124mFound array with \u001b[39m\u001b[38;5;132;01m%d\u001b[39;00m\u001b[38;5;124m sample(s) (shape=\u001b[39m\u001b[38;5;132;01m%s\u001b[39;00m\u001b[38;5;124m) while a\u001b[39m\u001b[38;5;124m\"\u001b[39m\n\u001b[1;32m    933\u001b[0m             \u001b[38;5;124m\"\u001b[39m\u001b[38;5;124m minimum of \u001b[39m\u001b[38;5;132;01m%d\u001b[39;00m\u001b[38;5;124m is required\u001b[39m\u001b[38;5;132;01m%s\u001b[39;00m\u001b[38;5;124m.\u001b[39m\u001b[38;5;124m\"\u001b[39m\n\u001b[1;32m    934\u001b[0m             \u001b[38;5;241m%\u001b[39m (n_samples, array\u001b[38;5;241m.\u001b[39mshape, ensure_min_samples, context)\n\u001b[1;32m    935\u001b[0m         )\n\u001b[1;32m    937\u001b[0m \u001b[38;5;28;01mif\u001b[39;00m ensure_min_features \u001b[38;5;241m>\u001b[39m \u001b[38;5;241m0\u001b[39m \u001b[38;5;129;01mand\u001b[39;00m array\u001b[38;5;241m.\u001b[39mndim \u001b[38;5;241m==\u001b[39m \u001b[38;5;241m2\u001b[39m:\n\u001b[1;32m    938\u001b[0m     n_features \u001b[38;5;241m=\u001b[39m array\u001b[38;5;241m.\u001b[39mshape[\u001b[38;5;241m1\u001b[39m]\n",
      "\u001b[0;31mValueError\u001b[0m: Found array with 0 sample(s) (shape=(0, 4)) while a minimum of 1 is required by KNeighborsClassifier."
     ]
    }
   ],
   "source": [
    "nn = NearestNeighbors(n_neighbors=1, metric=\"euclidean\").fit(X_train)\n",
    "_, train0_idxs = nn.kneighbors(X_test)\n",
    "train0_idxs = train0_idxs.squeeze()\n",
    "clf_knn.fit(X_train[train0_idxs],y_train[train0_idxs])\n",
    "print(np.sum(prediction_info(y_test, clf_knn.predict_proba(X_test))))\n",
    "print(clf_knn.score(X_test,y_test))\n",
    "sorted_X, sorted_y, info = order_samples_by_info(X_train[train0_idxs],y_train[train0_idxs],clf_knn)\n",
    "clf_knn.fit(X_train[train0_idxs][info>0],y_train[train0_idxs][info>0])\n",
    "print(np.sum(prediction_info(y_test, clf_knn.predict_proba(X_test))))\n",
    "print(clf_knn.score(X_test,y_test))"
   ]
  },
  {
   "cell_type": "code",
   "execution_count": null,
   "id": "389dd1ce-94b5-44c1-9cfa-234de120d03f",
   "metadata": {},
   "outputs": [],
   "source": []
  }
 ],
 "metadata": {
  "kernelspec": {
   "display_name": "Python 3 (ipykernel)",
   "language": "python",
   "name": "python3"
  },
  "language_info": {
   "codemirror_mode": {
    "name": "ipython",
    "version": 3
   },
   "file_extension": ".py",
   "mimetype": "text/x-python",
   "name": "python",
   "nbconvert_exporter": "python",
   "pygments_lexer": "ipython3",
   "version": "3.10.12"
  }
 },
 "nbformat": 4,
 "nbformat_minor": 5
}
