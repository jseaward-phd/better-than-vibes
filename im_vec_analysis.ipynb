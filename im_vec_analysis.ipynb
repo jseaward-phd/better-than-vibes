{
 "cells": [
  {
   "cell_type": "code",
   "execution_count": 1,
   "id": "06b4f84c-1266-4ad0-af31-778097103f47",
   "metadata": {},
   "outputs": [],
   "source": [
    "## imports\n",
    "import numpy as np\n",
    "from sklearn.model_selection import (\n",
    "    StratifiedKFold,  # use X = np.zeros(n_samples) in .split\n",
    ")\n",
    "from sklearn.model_selection import train_test_split\n",
    "from sklearn.neighbors import KNeighborsClassifier, NearestNeighbors\n",
    "\n",
    "from data_img import Img_Obj_Dataset\n",
    "\n",
    "# if you have indeces and want knns from large set, can make an idx array and NearestVectorCaller._call_vec_set; can just train/test split np.arange(len(ds)) to get back indeces for large sets\n",
    "\n",
    "\n",
    "from btv import *"
   ]
  },
  {
   "cell_type": "code",
   "execution_count": 2,
   "id": "34820869-08c5-4797-b66c-039cc3b7d91d",
   "metadata": {},
   "outputs": [
    {
     "name": "stderr",
     "output_type": "stream",
     "text": [
      "Detemining all classes...: 100%|██████████████████████████████| 1766/1766 [00:00<00:00, 2101.97it/s]\n"
     ]
    }
   ],
   "source": [
    "## Data setup\n",
    "\n",
    "ds = Img_Obj_Dataset(\"data/hardhat/test\", max_dim=128)\n",
    "# can pass metric == \"cosine\", get from NearestVectorCaller.metric on large sets\n",
    "knn = KNeighborsClassifier(weights=\"distance\", n_neighbors=10) #, metric = \"cosine\")\n",
    "# X, y = ds.whole_img_vec_set[:] # only need y for class balancing... ds.whole_img_vec_set.y\n",
    "\n",
    "idx_train, idx_test = train_test_split(\n",
    "    np.arange(len(ds.whole_img_vec_set)), test_size=0.2\n",
    ")\n",
    "X_train, y_train, X_test, y_test = ds.whole_img_vec_set.X[idx_train], ds.whole_img_vec_set.y[idx_train], ds.whole_img_vec_set.X[idx_test], ds.whole_img_vec_set.y[idx_test]"
   ]
  },
  {
   "cell_type": "code",
   "execution_count": 7,
   "id": "6abb3ed6-794e-4bcc-8b4b-c3cb604ff6d9",
   "metadata": {},
   "outputs": [
    {
     "data": {
      "text/html": [
       "<style>#sk-container-id-1 {color: black;background-color: white;}#sk-container-id-1 pre{padding: 0;}#sk-container-id-1 div.sk-toggleable {background-color: white;}#sk-container-id-1 label.sk-toggleable__label {cursor: pointer;display: block;width: 100%;margin-bottom: 0;padding: 0.3em;box-sizing: border-box;text-align: center;}#sk-container-id-1 label.sk-toggleable__label-arrow:before {content: \"▸\";float: left;margin-right: 0.25em;color: #696969;}#sk-container-id-1 label.sk-toggleable__label-arrow:hover:before {color: black;}#sk-container-id-1 div.sk-estimator:hover label.sk-toggleable__label-arrow:before {color: black;}#sk-container-id-1 div.sk-toggleable__content {max-height: 0;max-width: 0;overflow: hidden;text-align: left;background-color: #f0f8ff;}#sk-container-id-1 div.sk-toggleable__content pre {margin: 0.2em;color: black;border-radius: 0.25em;background-color: #f0f8ff;}#sk-container-id-1 input.sk-toggleable__control:checked~div.sk-toggleable__content {max-height: 200px;max-width: 100%;overflow: auto;}#sk-container-id-1 input.sk-toggleable__control:checked~label.sk-toggleable__label-arrow:before {content: \"▾\";}#sk-container-id-1 div.sk-estimator input.sk-toggleable__control:checked~label.sk-toggleable__label {background-color: #d4ebff;}#sk-container-id-1 div.sk-label input.sk-toggleable__control:checked~label.sk-toggleable__label {background-color: #d4ebff;}#sk-container-id-1 input.sk-hidden--visually {border: 0;clip: rect(1px 1px 1px 1px);clip: rect(1px, 1px, 1px, 1px);height: 1px;margin: -1px;overflow: hidden;padding: 0;position: absolute;width: 1px;}#sk-container-id-1 div.sk-estimator {font-family: monospace;background-color: #f0f8ff;border: 1px dotted black;border-radius: 0.25em;box-sizing: border-box;margin-bottom: 0.5em;}#sk-container-id-1 div.sk-estimator:hover {background-color: #d4ebff;}#sk-container-id-1 div.sk-parallel-item::after {content: \"\";width: 100%;border-bottom: 1px solid gray;flex-grow: 1;}#sk-container-id-1 div.sk-label:hover label.sk-toggleable__label {background-color: #d4ebff;}#sk-container-id-1 div.sk-serial::before {content: \"\";position: absolute;border-left: 1px solid gray;box-sizing: border-box;top: 0;bottom: 0;left: 50%;z-index: 0;}#sk-container-id-1 div.sk-serial {display: flex;flex-direction: column;align-items: center;background-color: white;padding-right: 0.2em;padding-left: 0.2em;position: relative;}#sk-container-id-1 div.sk-item {position: relative;z-index: 1;}#sk-container-id-1 div.sk-parallel {display: flex;align-items: stretch;justify-content: center;background-color: white;position: relative;}#sk-container-id-1 div.sk-item::before, #sk-container-id-1 div.sk-parallel-item::before {content: \"\";position: absolute;border-left: 1px solid gray;box-sizing: border-box;top: 0;bottom: 0;left: 50%;z-index: -1;}#sk-container-id-1 div.sk-parallel-item {display: flex;flex-direction: column;z-index: 1;position: relative;background-color: white;}#sk-container-id-1 div.sk-parallel-item:first-child::after {align-self: flex-end;width: 50%;}#sk-container-id-1 div.sk-parallel-item:last-child::after {align-self: flex-start;width: 50%;}#sk-container-id-1 div.sk-parallel-item:only-child::after {width: 0;}#sk-container-id-1 div.sk-dashed-wrapped {border: 1px dashed gray;margin: 0 0.4em 0.5em 0.4em;box-sizing: border-box;padding-bottom: 0.4em;background-color: white;}#sk-container-id-1 div.sk-label label {font-family: monospace;font-weight: bold;display: inline-block;line-height: 1.2em;}#sk-container-id-1 div.sk-label-container {text-align: center;}#sk-container-id-1 div.sk-container {/* jupyter's `normalize.less` sets `[hidden] { display: none; }` but bootstrap.min.css set `[hidden] { display: none !important; }` so we also need the `!important` here to be able to override the default hidden behavior on the sphinx rendered scikit-learn.org. See: https://github.com/scikit-learn/scikit-learn/issues/21755 */display: inline-block !important;position: relative;}#sk-container-id-1 div.sk-text-repr-fallback {display: none;}</style><div id=\"sk-container-id-1\" class=\"sk-top-container\"><div class=\"sk-text-repr-fallback\"><pre>KNeighborsClassifier(n_neighbors=10, weights=&#x27;distance&#x27;)</pre><b>In a Jupyter environment, please rerun this cell to show the HTML representation or trust the notebook. <br />On GitHub, the HTML representation is unable to render, please try loading this page with nbviewer.org.</b></div><div class=\"sk-container\" hidden><div class=\"sk-item\"><div class=\"sk-estimator sk-toggleable\"><input class=\"sk-toggleable__control sk-hidden--visually\" id=\"sk-estimator-id-1\" type=\"checkbox\" checked><label for=\"sk-estimator-id-1\" class=\"sk-toggleable__label sk-toggleable__label-arrow\">KNeighborsClassifier</label><div class=\"sk-toggleable__content\"><pre>KNeighborsClassifier(n_neighbors=10, weights=&#x27;distance&#x27;)</pre></div></div></div></div></div>"
      ],
      "text/plain": [
       "KNeighborsClassifier(n_neighbors=10, weights='distance')"
      ]
     },
     "execution_count": 7,
     "metadata": {},
     "output_type": "execute_result"
    }
   ],
   "source": [
    "knn.fit(X_train, y_train)\n",
    "# ds.whole_img_vec_set.X[idx_test]\n",
    "knn.score(X_test,y_test)"
   ]
  },
  {
   "cell_type": "code",
   "execution_count": 10,
   "id": "86b70ff0-5ef1-46f5-91e8-fe456f36f775",
   "metadata": {},
   "outputs": [
    {
     "data": {
      "text/plain": [
       "0.8107344632768362"
      ]
     },
     "execution_count": 10,
     "metadata": {},
     "output_type": "execute_result"
    }
   ],
   "source": [
    "accuracy_score(\n",
    "    ds.whole_img_vec_set.y[idx_test], knn.predict(ds.whole_img_vec_set.X[idx_test])\n",
    ")"
   ]
  },
  {
   "cell_type": "code",
   "execution_count": 9,
   "id": "6c387d5e-a9f9-45c1-976b-b4e8e1c0208b",
   "metadata": {},
   "outputs": [],
   "source": [
    "# only include p if y==1 or, reeally, want p(right answer) so take elemnt of predicted prob indicated by binary y.\n",
    "def prediction_entropy(y_true, y_predicted): # multilable\n",
    "    # replace log(0) with n instead of -Inf\n",
    "    if isinstance(y_predicted, list):\n",
    "        y_predicted = np.stack(y_predicted, axis=1)\n",
    "    A = np.zeros_like(y_true)\n",
    "    with np.errstate(divide=\"ignore\"):\n",
    "        for i, (pred, true) in enumerate(zip(y_predicted, y_true)):\n",
    "            for j, (p, t) in enumerate(zip(pred, true)):\n",
    "                I = -np.log(p[t])\n",
    "                if np.isinf(I):\n",
    "                    I = y_true.size\n",
    "                A[i, j] = I\n",
    "    return np.mean(A, axis=0)\n",
    "\n",
    "\n",
    "# probably actually want to do this at the prediction level since that is the big/slow bit.\n",
    "def prediction_entropy_lg(y_true, y_predicted): # sinlge label\n",
    "    # replace log(0) with n instead of -Inf\n",
    "    if isinstance(y_predicted, list):\n",
    "        y_predicted = np.stack(y_predicted, axis=1)\n",
    "    with np.errstate(divide=\"ignore\"):\n",
    "        for pred, true in zip(y_predicted, y_true):\n",
    "            for p, t in zip(pred, true):\n",
    "                I = -np.log(p[t])\n",
    "                if np.isinf(I):\n",
    "                    I = y_true.size\n",
    "                yield I"
   ]
  },
  {
   "cell_type": "code",
   "execution_count": 40,
   "id": "468bdc54-1880-48a3-a147-f64342d080a5",
   "metadata": {},
   "outputs": [],
   "source": [
    "A = knn.predict(ds.whole_img_vec_set.X[idx_test])\n",
    "P = knn.predict_proba(\n",
    "    ds.whole_img_vec_set.X[idx_test]\n",
    ")  # predicts the probability of each class. For whole image hardhats it is a list of 3 (p(no), P(yes)) arrays"
   ]
  },
  {
   "cell_type": "code",
   "execution_count": 41,
   "id": "3ed5e5ed-aacd-4a1f-b2c0-b1198091d312",
   "metadata": {},
   "outputs": [
    {
     "ename": "AttributeError",
     "evalue": "'list' object has no attribute 'shape'",
     "output_type": "error",
     "traceback": [
      "\u001b[0;31m---------------------------------------------------------------------------\u001b[0m",
      "\u001b[0;31mAttributeError\u001b[0m                            Traceback (most recent call last)",
      "Cell \u001b[0;32mIn[41], line 1\u001b[0m\n\u001b[0;32m----> 1\u001b[0m \u001b[43mprediction_entropy\u001b[49m\u001b[43m(\u001b[49m\u001b[43my_predicted\u001b[49m\u001b[43m,\u001b[49m\u001b[43m \u001b[49m\u001b[43my_true\u001b[49m\u001b[43m)\u001b[49m\n",
      "File \u001b[0;32m~/Coding/better-than-vibes/btv.py:36\u001b[0m, in \u001b[0;36mprediction_entropy\u001b[0;34m(y_true, y_predicted)\u001b[0m\n\u001b[1;32m     34\u001b[0m \u001b[38;5;28;01mif\u001b[39;00m \u001b[38;5;28misinstance\u001b[39m(y_predicted, \u001b[38;5;28mlist\u001b[39m):\n\u001b[1;32m     35\u001b[0m     y_predicted \u001b[38;5;241m=\u001b[39m np\u001b[38;5;241m.\u001b[39mstack(y_predicted, axis\u001b[38;5;241m=\u001b[39m\u001b[38;5;241m1\u001b[39m)\n\u001b[0;32m---> 36\u001b[0m class_num \u001b[38;5;241m=\u001b[39m \u001b[38;5;241m1\u001b[39m \u001b[38;5;28;01mif\u001b[39;00m \u001b[38;5;28mlen\u001b[39m(\u001b[43my_true\u001b[49m\u001b[38;5;241;43m.\u001b[39;49m\u001b[43mshape\u001b[49m) \u001b[38;5;241m==\u001b[39m \u001b[38;5;241m1\u001b[39m \u001b[38;5;28;01melse\u001b[39;00m y_true\u001b[38;5;241m.\u001b[39mshape[\u001b[38;5;241m1\u001b[39m]\n\u001b[1;32m     37\u001b[0m y_true \u001b[38;5;241m=\u001b[39m y_true\u001b[38;5;241m.\u001b[39mreshape([\u001b[38;5;241m-\u001b[39m\u001b[38;5;241m1\u001b[39m,class_num])\n\u001b[1;32m     38\u001b[0m y_predicted \u001b[38;5;241m=\u001b[39m y_predicted\u001b[38;5;241m.\u001b[39mreshape([\u001b[38;5;241m-\u001b[39m\u001b[38;5;241m1\u001b[39m,class_num,\u001b[38;5;241m2\u001b[39m])\n",
      "\u001b[0;31mAttributeError\u001b[0m: 'list' object has no attribute 'shape'"
     ]
    }
   ],
   "source": [
    "prediction_entropy(y_predicted, y_true)"
   ]
  },
  {
   "cell_type": "code",
   "execution_count": 17,
   "id": "b38014cc-98ab-46c1-98a7-8ae41a3c4902",
   "metadata": {},
   "outputs": [],
   "source": [
    "kfold_idx_gen = StratifiedKFold(n_splits=5).split(\n",
    "    np.zeros(len(ds.whole_img_vec_set)), np.sum(ds.whole_img_vec_set.y, axis=1)\n",
    ")\n",
    "# can just add all the labels to make it multiclass for splitting\n",
    "entropies = []\n",
    "running_train = []\n",
    "for k, (train_idx, test_idx) in enumerate(kfold_idx_gen):\n",
    "    running_train.append(test_idx)\n",
    "    # knn.fit(ds.whole_img_vec_set.X[train_idx], ds.whole_img_vec_set.y[train_idx])\n",
    "    # y_predicted = knn.predict_proba(ds.whole_img_vec_set.X[test_idx])\n",
    "    # y_true = ds.whole_img_vec_set.y[test_idx]\n",
    "    # H = prediction_entropy(y_true, y_predicted)\n",
    "    # entropies.append(H)\n",
    "    # print(f\"Fold : {k+1}, \" f\"Fold entropy : {H}\")"
   ]
  },
  {
   "cell_type": "code",
   "execution_count": null,
   "id": "db02a465-f1c2-4835-a1ac-14c98a5dd875",
   "metadata": {},
   "outputs": [],
   "source": []
  },
  {
   "cell_type": "code",
   "execution_count": 20,
   "id": "f804cbeb-a4aa-4d4e-b430-3d8e53ad84cd",
   "metadata": {},
   "outputs": [
    {
     "data": {
      "text/plain": [
       "(array([75.04532578, 57.61076487, 16.80113314]),\n",
       " array([38.20580196, 28.99206553,  8.40056667]),\n",
       " array([0.50910302, 0.50324042, 0.50000001]))"
      ]
     },
     "execution_count": 20,
     "metadata": {},
     "output_type": "execute_result"
    }
   ],
   "source": [
    "np.mean(entropies, axis=0), np.std(entropies, axis=0), np.std(\n",
    "    entropies, axis=0\n",
    ") / np.mean(entropies, axis=0)"
   ]
  },
  {
   "cell_type": "code",
   "execution_count": 188,
   "id": "52f31aea-8cd9-4ea8-8d6a-b99228185d75",
   "metadata": {},
   "outputs": [
    {
     "data": {
      "text/plain": [
       "array([[0, 1, 0],\n",
       "       [0, 1, 0],\n",
       "       [0, 1, 0],\n",
       "       ...,\n",
       "       [0, 1, 0],\n",
       "       [0, 1, 0],\n",
       "       [0, 1, 0]])"
      ]
     },
     "execution_count": 188,
     "metadata": {},
     "output_type": "execute_result"
    }
   ],
   "source": [
    "knn.predict(ds.whole_img_vec_set.X[test_idx])"
   ]
  },
  {
   "cell_type": "code",
   "execution_count": 100,
   "id": "2e3ab50b-7008-447f-b045-363b6e6e5ff1",
   "metadata": {},
   "outputs": [
    {
     "data": {
      "text/plain": [
       "array([ 339, 1604,   45])"
      ]
     },
     "execution_count": 100,
     "metadata": {},
     "output_type": "execute_result"
    }
   ],
   "source": [
    "np.sum(ds.whole_img_vec_set.y, axis=0)"
   ]
  },
  {
   "cell_type": "code",
   "execution_count": 43,
   "id": "cd37861f-0139-4607-8803-06498c10d396",
   "metadata": {},
   "outputs": [
    {
     "name": "stdout",
     "output_type": "stream",
     "text": [
      "Fold : 1, Test set entropy : 45.036827195467424 Train samples : 354 Accuracy : 0.7705382436260623\n",
      "Fold : 2, Test set entropy : 45.040604343720496 Train samples : 707 Accuracy : 0.7648725212464589\n",
      "Fold : 3, Test set entropy : 47.038715769593956 Train samples : 1060 Accuracy : 0.7620396600566572\n",
      "Fold : 4, Test set entropy : 52.03305004721435 Train samples : 1413 Accuracy : 0.7592067988668555\n"
     ]
    }
   ],
   "source": [
    "## with straigh vectorization of whole images, the knn accuracy goes down as more data is added. Therefore that vecotrization is shit. Maybe we try tabular data?\n",
    "\n",
    "kfold_idx_gen = StratifiedKFold(n_splits=5).split(\n",
    "    np.zeros(len(ds.whole_img_vec_set)), np.sum(ds.whole_img_vec_set.y, axis=1)\n",
    ")\n",
    "train_idx = np.array([], int)\n",
    "running_train = []\n",
    "for k, (_, test_idx) in enumerate(kfold_idx_gen):\n",
    "    running_train.append(test_idx)\n",
    "running_test = running_train.pop()\n",
    "for k, old_test_idx in enumerate(running_train):\n",
    "    train_idx = np.append(train_idx,old_test_idx)\n",
    "    knn.fit(ds.whole_img_vec_set.X[train_idx], ds.whole_img_vec_set.y[train_idx])\n",
    "    y_predicted = knn.predict_proba(ds.whole_img_vec_set.X[running_test])\n",
    "    y_true = ds.whole_img_vec_set.y[running_test]\n",
    "    H = prediction_entropy(y_true, y_predicted)\n",
    "    entropies.append(H)\n",
    "    print(f\"Fold : {k+1}, \" f\"Test set entropy : {np.mean(H)}\", f\"Train samples : {len(train_idx)}\", f\"Accuracy : {accuracy_score(y_true,knn.predict(ds.whole_img_vec_set.X[test_idx]))}\")"
   ]
  },
  {
   "cell_type": "code",
   "execution_count": 42,
   "id": "bcce42d3-8d73-4b1d-9fa0-b81cfbd43923",
   "metadata": {},
   "outputs": [
    {
     "ename": "ValueError",
     "evalue": "Supported target types are: ('binary', 'multiclass'). Got 'multilabel-indicator' instead.",
     "output_type": "error",
     "traceback": [
      "\u001b[0;31m---------------------------------------------------------------------------\u001b[0m",
      "\u001b[0;31mValueError\u001b[0m                                Traceback (most recent call last)",
      "Cell \u001b[0;32mIn[42], line 1\u001b[0m\n\u001b[0;32m----> 1\u001b[0m hs, ss \u001b[38;5;241m=\u001b[39m \u001b[43madd_stratified_folds_test\u001b[49m\u001b[43m(\u001b[49m\u001b[43mds\u001b[49m\u001b[38;5;241;43m.\u001b[39;49m\u001b[43mwhole_img_vec_set\u001b[49m\u001b[38;5;241;43m.\u001b[39;49m\u001b[43mX\u001b[49m\u001b[43m,\u001b[49m\u001b[43mds\u001b[49m\u001b[38;5;241;43m.\u001b[39;49m\u001b[43mwhole_img_vec_set\u001b[49m\u001b[38;5;241;43m.\u001b[39;49m\u001b[43my\u001b[49m\u001b[43m,\u001b[49m\u001b[43mknn\u001b[49m\u001b[43m)\u001b[49m\n",
      "File \u001b[0;32m~/Coding/better-than-vibes/btv.py:66\u001b[0m, in \u001b[0;36madd_stratified_folds_test\u001b[0;34m(X, y, clf, n_splits)\u001b[0m\n\u001b[1;32m     64\u001b[0m train_idx \u001b[38;5;241m=\u001b[39m np\u001b[38;5;241m.\u001b[39marray([], \u001b[38;5;28mint\u001b[39m)\n\u001b[1;32m     65\u001b[0m running_train, entropies, train_idx, scores \u001b[38;5;241m=\u001b[39m [], [], [], []\n\u001b[0;32m---> 66\u001b[0m \u001b[38;5;28;01mfor\u001b[39;00m k, (_, test_idx) \u001b[38;5;129;01min\u001b[39;00m \u001b[38;5;28menumerate\u001b[39m(kfold_idx_gen):\n\u001b[1;32m     67\u001b[0m     running_train\u001b[38;5;241m.\u001b[39mappend(test_idx)\n\u001b[1;32m     68\u001b[0m running_test \u001b[38;5;241m=\u001b[39m running_train\u001b[38;5;241m.\u001b[39mpop()\n",
      "File \u001b[0;32m~/.virtualenvs/study/lib/python3.10/site-packages/sklearn/model_selection/_split.py:352\u001b[0m, in \u001b[0;36m_BaseKFold.split\u001b[0;34m(self, X, y, groups)\u001b[0m\n\u001b[1;32m    344\u001b[0m \u001b[38;5;28;01mif\u001b[39;00m \u001b[38;5;28mself\u001b[39m\u001b[38;5;241m.\u001b[39mn_splits \u001b[38;5;241m>\u001b[39m n_samples:\n\u001b[1;32m    345\u001b[0m     \u001b[38;5;28;01mraise\u001b[39;00m \u001b[38;5;167;01mValueError\u001b[39;00m(\n\u001b[1;32m    346\u001b[0m         (\n\u001b[1;32m    347\u001b[0m             \u001b[38;5;124m\"\u001b[39m\u001b[38;5;124mCannot have number of splits n_splits=\u001b[39m\u001b[38;5;132;01m{0}\u001b[39;00m\u001b[38;5;124m greater\u001b[39m\u001b[38;5;124m\"\u001b[39m\n\u001b[1;32m    348\u001b[0m             \u001b[38;5;124m\"\u001b[39m\u001b[38;5;124m than the number of samples: n_samples=\u001b[39m\u001b[38;5;132;01m{1}\u001b[39;00m\u001b[38;5;124m.\u001b[39m\u001b[38;5;124m\"\u001b[39m\n\u001b[1;32m    349\u001b[0m         )\u001b[38;5;241m.\u001b[39mformat(\u001b[38;5;28mself\u001b[39m\u001b[38;5;241m.\u001b[39mn_splits, n_samples)\n\u001b[1;32m    350\u001b[0m     )\n\u001b[0;32m--> 352\u001b[0m \u001b[38;5;28;01mfor\u001b[39;00m train, test \u001b[38;5;129;01min\u001b[39;00m \u001b[38;5;28msuper\u001b[39m()\u001b[38;5;241m.\u001b[39msplit(X, y, groups):\n\u001b[1;32m    353\u001b[0m     \u001b[38;5;28;01myield\u001b[39;00m train, test\n",
      "File \u001b[0;32m~/.virtualenvs/study/lib/python3.10/site-packages/sklearn/model_selection/_split.py:85\u001b[0m, in \u001b[0;36mBaseCrossValidator.split\u001b[0;34m(self, X, y, groups)\u001b[0m\n\u001b[1;32m     83\u001b[0m X, y, groups \u001b[38;5;241m=\u001b[39m indexable(X, y, groups)\n\u001b[1;32m     84\u001b[0m indices \u001b[38;5;241m=\u001b[39m np\u001b[38;5;241m.\u001b[39marange(_num_samples(X))\n\u001b[0;32m---> 85\u001b[0m \u001b[38;5;28;01mfor\u001b[39;00m test_index \u001b[38;5;129;01min\u001b[39;00m \u001b[38;5;28mself\u001b[39m\u001b[38;5;241m.\u001b[39m_iter_test_masks(X, y, groups):\n\u001b[1;32m     86\u001b[0m     train_index \u001b[38;5;241m=\u001b[39m indices[np\u001b[38;5;241m.\u001b[39mlogical_not(test_index)]\n\u001b[1;32m     87\u001b[0m     test_index \u001b[38;5;241m=\u001b[39m indices[test_index]\n",
      "File \u001b[0;32m~/.virtualenvs/study/lib/python3.10/site-packages/sklearn/model_selection/_split.py:733\u001b[0m, in \u001b[0;36mStratifiedKFold._iter_test_masks\u001b[0;34m(self, X, y, groups)\u001b[0m\n\u001b[1;32m    732\u001b[0m \u001b[38;5;28;01mdef\u001b[39;00m \u001b[38;5;21m_iter_test_masks\u001b[39m(\u001b[38;5;28mself\u001b[39m, X, y\u001b[38;5;241m=\u001b[39m\u001b[38;5;28;01mNone\u001b[39;00m, groups\u001b[38;5;241m=\u001b[39m\u001b[38;5;28;01mNone\u001b[39;00m):\n\u001b[0;32m--> 733\u001b[0m     test_folds \u001b[38;5;241m=\u001b[39m \u001b[38;5;28;43mself\u001b[39;49m\u001b[38;5;241;43m.\u001b[39;49m\u001b[43m_make_test_folds\u001b[49m\u001b[43m(\u001b[49m\u001b[43mX\u001b[49m\u001b[43m,\u001b[49m\u001b[43m \u001b[49m\u001b[43my\u001b[49m\u001b[43m)\u001b[49m\n\u001b[1;32m    734\u001b[0m     \u001b[38;5;28;01mfor\u001b[39;00m i \u001b[38;5;129;01min\u001b[39;00m \u001b[38;5;28mrange\u001b[39m(\u001b[38;5;28mself\u001b[39m\u001b[38;5;241m.\u001b[39mn_splits):\n\u001b[1;32m    735\u001b[0m         \u001b[38;5;28;01myield\u001b[39;00m test_folds \u001b[38;5;241m==\u001b[39m i\n",
      "File \u001b[0;32m~/.virtualenvs/study/lib/python3.10/site-packages/sklearn/model_selection/_split.py:676\u001b[0m, in \u001b[0;36mStratifiedKFold._make_test_folds\u001b[0;34m(self, X, y)\u001b[0m\n\u001b[1;32m    674\u001b[0m allowed_target_types \u001b[38;5;241m=\u001b[39m (\u001b[38;5;124m\"\u001b[39m\u001b[38;5;124mbinary\u001b[39m\u001b[38;5;124m\"\u001b[39m, \u001b[38;5;124m\"\u001b[39m\u001b[38;5;124mmulticlass\u001b[39m\u001b[38;5;124m\"\u001b[39m)\n\u001b[1;32m    675\u001b[0m \u001b[38;5;28;01mif\u001b[39;00m type_of_target_y \u001b[38;5;129;01mnot\u001b[39;00m \u001b[38;5;129;01min\u001b[39;00m allowed_target_types:\n\u001b[0;32m--> 676\u001b[0m     \u001b[38;5;28;01mraise\u001b[39;00m \u001b[38;5;167;01mValueError\u001b[39;00m(\n\u001b[1;32m    677\u001b[0m         \u001b[38;5;124m\"\u001b[39m\u001b[38;5;124mSupported target types are: \u001b[39m\u001b[38;5;132;01m{}\u001b[39;00m\u001b[38;5;124m. Got \u001b[39m\u001b[38;5;132;01m{!r}\u001b[39;00m\u001b[38;5;124m instead.\u001b[39m\u001b[38;5;124m\"\u001b[39m\u001b[38;5;241m.\u001b[39mformat(\n\u001b[1;32m    678\u001b[0m             allowed_target_types, type_of_target_y\n\u001b[1;32m    679\u001b[0m         )\n\u001b[1;32m    680\u001b[0m     )\n\u001b[1;32m    682\u001b[0m y \u001b[38;5;241m=\u001b[39m column_or_1d(y)\n\u001b[1;32m    684\u001b[0m _, y_idx, y_inv \u001b[38;5;241m=\u001b[39m np\u001b[38;5;241m.\u001b[39munique(y, return_index\u001b[38;5;241m=\u001b[39m\u001b[38;5;28;01mTrue\u001b[39;00m, return_inverse\u001b[38;5;241m=\u001b[39m\u001b[38;5;28;01mTrue\u001b[39;00m)\n",
      "\u001b[0;31mValueError\u001b[0m: Supported target types are: ('binary', 'multiclass'). Got 'multilabel-indicator' instead."
     ]
    }
   ],
   "source": [
    "hs, ss = add_stratified_folds_test(ds.whole_img_vec_set.X,ds.whole_img_vec_set.y,knn)"
   ]
  },
  {
   "cell_type": "code",
   "execution_count": null,
   "id": "334d5b81-c0c8-4baa-98a0-2b92b35d3474",
   "metadata": {},
   "outputs": [],
   "source": [
    "imc = ds.imc[:100]\n",
    "color = len(imc[0].shape) > 2\n",
    "channels = imc[0].shape[2] if color else 1\n",
    "    \n",
    "px_mean, px_std = np.zeros(channels), np.zeros(channels)\n",
    "running_sum,running_sumsq  = 0,0 \n",
    "for n, im in tqdm(\n",
    "    enumerate(imc), desc=\"Scanning to find mean and STD of pixel values...\", unit=\"Image file\"\n",
    "):\n",
    "\n",
    "    last_px_mean = px_mean.copy()\n",
    "    last_px_std = px_std.copy()\n",
    "    px_mean += (im.mean(0).mean(0) - px_mean)/(n + 1)\n",
    "    px_std = last_px_std**2 + ((im - last_px_mean)*(im - px_mean)) if n>0 else im.std(0).std(0)\n",
    "\n",
    "    print(im.std(0).std(0), np.power(px_std,0.25))"
   ]
  },
  {
   "cell_type": "code",
   "execution_count": 3,
   "id": "3caedb7b-8895-424c-bcf3-e0a1a8801a24",
   "metadata": {},
   "outputs": [
    {
     "ename": "NameError",
     "evalue": "name 'y_predicted' is not defined",
     "output_type": "error",
     "traceback": [
      "\u001b[0;31m---------------------------------------------------------------------------\u001b[0m",
      "\u001b[0;31mNameError\u001b[0m                                 Traceback (most recent call last)",
      "Cell \u001b[0;32mIn[3], line 2\u001b[0m\n\u001b[1;32m      1\u001b[0m A \u001b[38;5;241m=\u001b[39m []\n\u001b[0;32m----> 2\u001b[0m \u001b[38;5;28;01mif\u001b[39;00m \u001b[38;5;28misinstance\u001b[39m(\u001b[43my_predicted\u001b[49m, \u001b[38;5;28mlist\u001b[39m):\n\u001b[1;32m      3\u001b[0m     y_predicted \u001b[38;5;241m=\u001b[39m np\u001b[38;5;241m.\u001b[39mstack(y_predicted, axis\u001b[38;5;241m=\u001b[39m\u001b[38;5;241m1\u001b[39m)\n\u001b[1;32m      4\u001b[0m     classes \u001b[38;5;241m=\u001b[39m y_predicted\u001b[38;5;241m.\u001b[39mshape[\u001b[38;5;241m2\u001b[39m] \u001b[38;5;241m-\u001b[39m \u001b[38;5;241m1\u001b[39m\n",
      "\u001b[0;31mNameError\u001b[0m: name 'y_predicted' is not defined"
     ]
    }
   ],
   "source": []
  },
  {
   "cell_type": "code",
   "execution_count": null,
   "id": "c0956a7d-4cfd-4259-b00f-bc7b4b2f75f3",
   "metadata": {},
   "outputs": [],
   "source": []
  }
 ],
 "metadata": {
  "kernelspec": {
   "display_name": "Python 3 (ipykernel)",
   "language": "python",
   "name": "python3"
  },
  "language_info": {
   "codemirror_mode": {
    "name": "ipython",
    "version": 3
   },
   "file_extension": ".py",
   "mimetype": "text/x-python",
   "name": "python",
   "nbconvert_exporter": "python",
   "pygments_lexer": "ipython3",
   "version": "3.10.12"
  }
 },
 "nbformat": 4,
 "nbformat_minor": 5
}
